{
 "cells": [
  {
   "cell_type": "markdown",
   "metadata": {},
   "source": [
    "## <font color= darkblue> Statistical Models Application For Bitcoin Daily Direction Analysis</font>\n",
    "###### <font color= green> \"Finance is not a plug-and-play subject as it relates to machine learning. Modelling financial series is harder than driving cars or recognizing faces.\" (Marcos Lopez de Prado)</font>\n",
    "\\author{Agustin Muñoz Gonzalez} \\date{July 2021}\n",
    "\n",
    "\\maketitle\n",
    "\\makeatletter\n",
    "\\renewcommand{\\@seccntformat}[1]{}\n",
    "\\makeatother"
   ]
  },
  {
   "cell_type": "markdown",
   "metadata": {},
   "source": [
    "##### <font color= darkblue> Abstract\n",
    "\n",
    "Although the applications of deep neural networks (deep learning) have allowed investors to estimate the direction of the movement of financial assets, there are not still many results on these applications for the so-called '' alternative currencies '' such as Bitcoin (BTC), which has had phenomenal growth during 2020. That is why we consider pertinent to study and explore investment applications of various typical, and not so typical, statistical models of data science for the problem of estimating daily direction future of BTC. In particular, the penultimate model shown is an LSTM neural network whose topology is different from classical networks and makes them especially useful for working with data that have a short- and long-term time dependence, such as financial time series. We have used in this project the Python language and real historical data from the BTC. The originality of the work is due not only to the application of various statistical models but also to the incorporation of metrics called '' on-chain '' linked purely and exclusively to the block chain, and which are gaining more and more relevance.\n"
   ]
  },
  {
   "cell_type": "markdown",
   "metadata": {},
   "source": [
    "##### <font color= darkblue> Key words:</font> \n",
    "\n",
    "<font color= dimgray> Data-science – Statistical learning – Deep Learning – Long Short-Term Memory Neural Networks – Bitcoin – Asset Movement Prediction</font> "
   ]
  },
  {
   "cell_type": "markdown",
   "metadata": {},
   "source": [
    "##### <font color= darkblue> Introducción \n",
    "\n",
    "In this project we will analyze the application and performance of different models to the problem of classifying the daily movement of Bitcoin. That is, the response variable will be a binary categorical variable: $ + 1 $ if the closing price of the next day is higher than the last closing and $ 0 $ otherwise.\n",
    "\n",
    "While BTC (Bitcoin) has been developed for several years now, it has recently caught the attention of both institutional investors and retailers. Because it is still a novel technology even among experts it is not entirely clear what factors affect its movement. That is why the explanatory variables (features) that we will consider will try to cover aspects linked to factors that may be relevant, they are:\n",
    "\n",
    "\\begin{itemize}\n",
    "\\item BTC's daily price;\n",
    "\\item BTC's ''price discovery'' process (new highs and lows);\n",
    "\\item ''Market sentiment'': typical indicators that serve as a thermometer and as market narrative;\n",
    "\\item Technical indicators;\n",
    "\\item ''On-chain'' metrics: Typical metrics of the Blockchain.\n",
    "\\end{itemize}\n",
    "\n",
    "We have separated the work into two parts. \n",
    "    \n",
    "In the first part, we will dedicate ourselves to assembling the BTC data set with data obtained from the Bitstamp exchange through the quandl.com site. In addition, we will obtain the data associated with the explanatory variables, mentioned above, from the Investing.com and docs.coinmetrics.io sites. Then, we will make a selection of the most relevant variables according to the explanatory paradigm. Finally, we will finish preparing the training and testing sets that we will use in the second part.\n",
    "    \n",
    "In the second part we will build several statistical models in increasing order of complexity. In addition, we will analyze and compare the performance of each. Furthermore, we will show some typical problems of data science such as the problem of overfitting a model or the little amount of data available, and some ideas to overcome them. Finally, we will graph the strategies resulting from following the predictions of each model.\n",
    "\n",
    "Finally, in the conclusion, we will make the final comparison between the models according to different metrics such as algorithm convergence speed, prediction score and degree of overfitting, to find the best models.\n",
    "\n",
    "The bibliography is at the end, with papers, web links, books, etc., related to the topics discussed and that we have used throughout the work."
   ]
  },
  {
   "cell_type": "markdown",
   "metadata": {},
   "source": [
    "\\clearpage"
   ]
  },
  {
   "cell_type": "markdown",
   "metadata": {},
   "source": [
    "# <font color= darkblue> Part I: Exploratory Data Analysis \\& Engineering Data Features</font>\n",
    "\n",
    "\n",
    "### <font color= darkblue>Financial Data Preprocessing, Feature Engineering and Feature Learning</font>\n",
    "\n",
    "A time series is a series of data points indexed in time order. Financial Data such as bitcoin's price series observed at equally spaced points in time are an example of such a series. It is a sequence of observations recorded at regular time intervals and depending on the frequency of observations, a time series may typically be in seconds, minute, hourly, daily, weekly, monthly, quarterly and annually.\n",
    "\n",
    "The first step towards any data analysis would be to parse the raw data which involves extracting the data from the source and then cleaning and filling the missing data, if any. While data comes in many forms, Python makes it easy to read time series data using useful packages such as pandas."
   ]
  },
  {
   "cell_type": "markdown",
   "metadata": {},
   "source": [
    "### <font color= darkblue>Importing required libraries</font>\n",
    "\n",
    "Initially we import several libraries and Python packages that we will use throughout the work, they will cover aspects of data visualization, exploration and analysis, as well as results visualization.\n",
    "\n",
    "In addition, we will import several Keras sub-package modules necessary for the creation of the models and the measurement of their performance. Keras is a Python API and is one of the most powerful and user-friendly libraries that is based, in turn, on the popular TensorFlow library for the creation of machine learning and deep learning models."
   ]
  },
  {
   "cell_type": "code",
   "execution_count": 36,
   "metadata": {},
   "outputs": [],
   "source": [
    "import numpy as np\n",
    "from scipy import stats\n",
    "import pandas as pd\n",
    "import time\n",
    "#import math\n",
    "\n",
    "# Sklearn\n",
    "import sklearn\n",
    "# Preprocessor from sklearn\n",
    "from sklearn.preprocessing import MinMaxScaler\n",
    "from sklearn.model_selection import train_test_split\n",
    "\n",
    "# Keras\n",
    "import keras\n",
    "# ANNs from keras\n",
    "from keras.models import Sequential\n",
    "from keras.utils.vis_utils import plot_model\n",
    "from keras.layers import Dropout, Dense, LSTM\n",
    "\n",
    "# Import cufflinks for visualization\n",
    "import matplotlib.pyplot as plt\n",
    "plt.rcParams['figure.figsize'] =(20,10)\n",
    "plt.style.use('fivethirtyeight')\n",
    "\n",
    "# Ignore warnings\n",
    "import warnings\n",
    "warnings.filterwarnings('ignore')\n",
    "\n",
    "# Feature selection\n",
    "import seaborn as sns\n",
    "from sklearn.feature_selection import SelectKBest\n",
    "from sklearn.feature_selection import f_classif\n",
    "# Feature importance\n",
    "from sklearn.ensemble import ExtraTreesClassifier\n",
    "import matplotlib.pyplot as plt\n",
    "\n",
    "# Models\n",
    "from sklearn.naive_bayes import MultinomialNB\n",
    "from sklearn.linear_model import LogisticRegression\n",
    "from sklearn.neighbors import KNeighborsClassifier\n",
    "from sklearn.svm import LinearSVC\n",
    "from sklearn.tree import DecisionTreeClassifier\n",
    "from sklearn.ensemble import BaggingClassifier\n",
    "from sklearn.tree import DecisionTreeClassifier\n",
    "from sklearn.ensemble import AdaBoostClassifier\n",
    "from sklearn.tree import DecisionTreeClassifier\n",
    "from sklearn.ensemble import RandomForestClassifier\n",
    "from sklearn.ensemble import VotingClassifier\n",
    "from skpp import ProjectionPursuitRegressor\n",
    "from skpp import ProjectionPursuitClassifier\n",
    "# # ANNs\n",
    "# from tensorflow.keras import Input\n",
    "# from tensorflow.keras.layers import Dense, LSTM\n",
    "# from tensorflow.keras.models import load_model, Model\n",
    "\n",
    "# Model Metrics\n",
    "from sklearn.metrics import accuracy_score\n",
    "# ROC Curve\n",
    "from sklearn.metrics import roc_curve\n",
    "from sklearn.metrics import roc_auc_score\n",
    "\n",
    "# Resample\n",
    "# Block Bootstrap\n",
    "from arch.bootstrap import StationaryBootstrap\n",
    "# Time Series cross-validation\n",
    "from sklearn.model_selection import TimeSeriesSplit\n",
    "\n",
    "# Class encoder\n",
    "from sklearn.preprocessing import LabelEncoder "
   ]
  },
  {
   "cell_type": "markdown",
   "metadata": {},
   "source": [
    "Seteamos las semillas correspondientes para que el trabajo sea reproducible."
   ]
  },
  {
   "cell_type": "code",
   "execution_count": null,
   "metadata": {},
   "outputs": [],
   "source": [
    "# We set a seed value in order to be able of reproduce the results.\n",
    "seed_value= 123\n",
    "# 1. Set `PYTHONHASHSEED` environment variable at a fixed value\n",
    "import os\n",
    "os.environ['PYTHONHASHSEED']=str(seed_value)\n",
    "# 2. Set `python` built-in pseudo-random generator at a fixed value\n",
    "import random\n",
    "random.seed(seed_value)\n",
    "# 3. Set `numpy` pseudo-random generator at a fixed value\n",
    "import numpy as np\n",
    "np.random.seed(seed_value)\n",
    "# 4. Set `tensorflow` pseudo-random generator at a fixed value\n",
    "# import tensorflow as tf\n",
    "# tf.set_random_seed(seed_value)\n",
    "\n",
    "from numpy.random import seed\n",
    "seed(123)"
   ]
  },
  {
   "cell_type": "markdown",
   "metadata": {},
   "source": [
    "#### <font color= darkblue> Data Collection</font>\n",
    "\n",
    "The work is based on data from the sites Bitsamp (via quand.com), Investing.com and docs.coinmetrics.io. Although initially we will consider historical BTC data from April 15, 2014, when we clean up missing data and assemble the dataframe with all the features, we will end up using historical data with daily frequency from February 23, 2017 to February 15. March 2021, that is, around 1000 data."
   ]
  },
  {
   "cell_type": "code",
   "execution_count": 37,
   "metadata": {},
   "outputs": [],
   "source": [
    "Bitcoin=pd.read_csv('data/BITSTAMP-USD.csv', index_col=0, parse_dates=True)[::-1].dropna()\n",
    "Bitcoin.head()"
   ]
  },
  {
   "cell_type": "markdown",
   "metadata": {},
   "source": [
    "#### <font color= darkblue>Visualising Bitcoin Prices fluctations</font>"
   ]
  },
  {
   "cell_type": "code",
   "execution_count": 38,
   "metadata": {},
   "outputs": [
    {
     "data": {
      "image/png": "[encoded data removed]",
      "text/plain": [
       "<Figure size 1440x720 with 1 Axes>"
      ]
     },
     "metadata": {},
     "output_type": "display_data"
    }
   ],
   "source": [
    "Bitcoin['Last'].plot(figsize=(20,10),color='black');"
   ]
  },
  {
   "cell_type": "markdown",
   "metadata": {},
   "source": [
    "Again, the explanatory variables that we will handle will cover the following aspects of BTC (and the market in general):\n",
    "\n",
    "\\begin{itemize}\n",
    "\\item Closely related factors with Bitcoin's spot price such as: BTC's Futures and Ethereum's price;\n",
    "\\item Macro indicators: a few important commodities such as crude, 10 years treasury and VIX volatility index;\n",
    "\\item Technnical indicators linked with volume, momentum, volatily and BTC candlestick data;\n",
    "\\item On-chain metrics, i.e., Blockchain closely related metrics.\n",
    "\\end{itemize}"
   ]
  },
  {
   "cell_type": "markdown",
   "metadata": {},
   "source": [
    "#### <font color= darkblue> Features</font>\n",
    "\n",
    "\\begin{center}\n",
    "\t\\begin{tabular}{|p{0.3\\linewidth} | p{0.6\\linewidth}|}\n",
    "\t\t\\hline\n",
    "\t\t\\textbf{CME\\_BitcoinFutures} & BTC's Futures\\\\ \\hline\n",
    "\t\t\\textbf{ETH} & Ethereum's prices\\\\ \\hline\n",
    "\t\t\\textbf{CRUDE, Gold, Treasury\\_10} & OIL's and Crude's futures, and 10 years treasury\\\\ \\hline\n",
    "\t\t\\textbf{SPY} & S\\&P's futures\\\\ \\hline\n",
    "\t\t\\textbf{ATR} & Average True Range (ATR): A technical indicator of BTC volatility\\\\ \\hline\n",
    "\t\t\\textbf{OBV} & On-balance volume (OBV) is a technical momentum indicator that uses the daily volume of Bitcoin\\\\ \\hline\n",
    "\t\t\\textbf{sma14, sma60} & Simple 14- and 60-day moving averages of Bitcoin's daily closing price\\\\ \\hline\n",
    "\t\t\\textbf{vol14, vol60} & 14 and 60 Day Implied Volatility Indices of Bitcoin Daily Returns\\\\ \\hline\n",
    "\t\t\\textbf{sma20, b\\_upper, b\\_lower} & Bollinger Bands are another technical indicator used to measure the overbought or oversold of an asset\\\\ \\hline\n",
    "\t\t\\textbf{MOM5D} & Momentum 5 days from the daily return of Bitcoin\\\\ \\hline\n",
    "\t\t\\textbf{High, Low, Last, Bid, Ask, VWAP, Volume} & Bitcoin daily technical data\\\\ \\hline\n",
    "\t\t\\textbf{Returns} & Returns compared to the closing price of Bitcoin of the previous day \\\\ \\hline\n",
    "\t\t\\textbf{MVRV\\_FF} & Quotient between the market capitalization of bitcoin and its effective capitalization (market-value-to-realized-value). The latter takes into account, for a certain group of BTC, the price they had the last time they were moved\\\\ \\hline\n",
    "\t\t\\textbf{HashRate} & Speed at which calculations are completed (proof-of-work) on all miners on the network\\\\ \\hline\n",
    "\t\t\\textbf{Miner\\_revenue} & The sum of the USD value of all miners' revenue (fees plus recently issued native units) per day\\\\ \\hline\n",
    "\t\\end{tabular}\n",
    "\\end{center}"
   ]
  },
  {
   "cell_type": "markdown",
   "metadata": {},
   "source": [
    "We define the functios that we'll use to calculate some of the mentioned features."
   ]
  },
  {
   "cell_type": "code",
   "execution_count": 39,
   "metadata": {},
   "outputs": [],
   "source": [
    "# we assume that df's order is increasing in dates\n",
    "def ATR(df,n):\n",
    "    \"function to calculate True Range and Average True Range\"\n",
    "    df = df.copy()\n",
    "\n",
    "    df['H-L']  = abs(df['High']-df['Low'])\n",
    "    df['H-PO'] = abs(df['High']-df['Open'].shift(1))\n",
    "    df['L-PO'] = abs(df['Low']-df['Open'].shift(1))\n",
    "    \n",
    "    df['TR']   = df[['H-L','H-PO','L-PO']].max(axis=1,skipna=False)\n",
    "    df['ATR']  = df['TR'].rolling(n).mean()\n",
    "\n",
    "    df2 = df.drop(['H-L','H-PO','L-PO'],axis=1)\n",
    "    return df2\n",
    "\n",
    "def OBV(df):\n",
    "\tn=len(df)\n",
    "\tOBV=[]\n",
    "\tOBV.append(0)\n",
    "\tfor i in range(0,n-1):\n",
    "\t\tif df['Price'][i]<df['Price'][i+1]:\n",
    "\t\t\tOBV.append(OBV[i]+df['Volume'][i+1])\n",
    "\t\telif df['Price'][i]>df['Price'][i+1]:\n",
    "\t\t\tOBV.append(OBV[i]-df['Volume'][i+1])\n",
    "\treturn OBV\n",
    "\n",
    "# 'CME_BitcoinFutures' and 'ETH' data is expressed as string, so we have to convert it to float.\n",
    "def text_currency_to_float(text):\n",
    "  t = text\n",
    "  dot_pos = t.rfind('.')\n",
    "  comma_pos = t.rfind(',')\n",
    "  if comma_pos > dot_pos:\n",
    "    t = t.replace(\".\", \"\")\n",
    "    t = t.replace(\",\", \".\")\n",
    "  else:\n",
    "    t = t.replace(\",\", \"\")\n",
    "\n",
    "  return(float(t))"
   ]
  },
  {
   "cell_type": "markdown",
   "metadata": {},
   "source": [
    "We obtain the rest of the necessary data."
   ]
  },
  {
   "cell_type": "code",
   "execution_count": 40,
   "metadata": {},
   "outputs": [],
   "source": [
    "# Crudo\n",
    "CRUDE=pd.read_csv('data/Crude Oil WTI Futures Historical Data.csv', index_col=0, parse_dates=True).dropna()['Price']\n",
    "# 10-Y Treasury\n",
    "Treasury_10=pd.read_csv('data/United States 10-Year Bond Yield Historical Data.csv', index_col=0, parse_dates=True).dropna()['Price']\n",
    "# S&P Index\n",
    "SPY=pd.read_csv('data/SPY Historical Data.csv', index_col=0, parse_dates=True).dropna()['Price']\n",
    "# GOLD\n",
    "Gold=pd.read_csv('data/Gold Futures Historical Data.csv', index_col=0, parse_dates=True, thousands=',')['Price'].dropna()\n",
    "# Gold=Gold[::-1]\n",
    "CRUDE.head(),Treasury_10.head(),SPY.head(),Gold.head()"
   ]
  },
  {
   "cell_type": "markdown",
   "metadata": {},
   "source": [
    "We proceed to build the dataframe with all the features and the data sample on the one hand, and a dataframe with the corresponding response variable on the other."
   ]
  },
  {
   "cell_type": "markdown",
   "metadata": {},
   "source": [
    "Let's start with the factors directly linked to BTC."
   ]
  },
  {
   "cell_type": "code",
   "execution_count": null,
   "metadata": {},
   "outputs": [],
   "source": [
    "# BTC's spot price related Indicators\n",
    "Bitcoin['CME_BitcoinFutures']=pd.read_csv('data/Bitcoin Futures CME Historical Data.csv', index_col=0, parse_dates=True).dropna()['Price']\n",
    "Bitcoin['ETH']=pd.read_csv('data/Ethereum Historical Data.csv', index_col=0, parse_dates=True).dropna()['Price']"
   ]
  },
  {
   "cell_type": "markdown",
   "metadata": {},
   "source": [
    "Let's continue with the macro factors."
   ]
  },
  {
   "cell_type": "code",
   "execution_count": 41,
   "metadata": {},
   "outputs": [],
   "source": [
    "# Macro Indicators\n",
    "Bitcoin['CRUDE']=CRUDE\n",
    "Bitcoin['Gold']=Gold\n",
    "Bitcoin['Treasury_10']=Treasury_10\n",
    "Bitcoin['SPY']=SPY"
   ]
  },
  {
   "cell_type": "markdown",
   "metadata": {},
   "source": [
    "We continue with the technical factors."
   ]
  },
  {
   "cell_type": "code",
   "execution_count": null,
   "metadata": {},
   "outputs": [],
   "source": [
    "# BTC's returns\n",
    "Bitcoin['Returns']=np.around(Bitcoin['Last'].pct_change().dropna(),3)\n",
    "#ATR\n",
    "Bitcoin=Bitcoin.rename(columns={'Last':'Open'}) # ATR uses 'Open' so we have to rename 'Last'\n",
    "ATR_Bitcoin = ATR(Bitcoin,21)['ATR']\n",
    "Bitcoin=Bitcoin.rename(columns={'Open':'Last'}) # We change it to 'Last' again\n",
    "Bitcoin['ATR']=ATR_Bitcoin\n",
    "#OBV\n",
    "Bitcoin['OBV']=OBV(Bitcoin.rename(columns={'Last':'Price'})) # OBV uses 'Price' so we change it\n",
    "\n",
    "# Classic Technnical Indicators\n",
    "# Simple Moving Averages\n",
    "# 2 week\n",
    "Bitcoin['sma14'] = Bitcoin['Last'].rolling(14).mean()\n",
    "# 2 month\n",
    "Bitcoin['sma60'] = Bitcoin['Last'].rolling(60).mean()\n",
    "\n",
    "# Rolling Volatility (annualized assuming 365 trading days)\n",
    "# 2 week\n",
    "Bitcoin['vol14'] = Bitcoin['Returns'].rolling(14).std() * np.sqrt(365)\n",
    "# 2 month\n",
    "Bitcoin['vol60'] = Bitcoin['Returns'].rolling(60).std() * np.sqrt(365)\n",
    "\n",
    "\n",
    "# Bollinger Bands\n",
    "# 20 day simple moving average\n",
    "Bitcoin['sma20'] = Bitcoin['Last'].rolling(20).mean()\n",
    "# Upper band\n",
    "Bitcoin['b_upper'] = Bitcoin['sma20'] + 2 * Bitcoin['sma20'].rolling(20).std()\n",
    "# Lower band\n",
    "Bitcoin['b_lower'] = Bitcoin['sma20'] - 2 * Bitcoin['sma20'].rolling(20).std()\n",
    "\n",
    "# Momentum\n",
    "MOM5D=np.around([Bitcoin['Last'][t]-Bitcoin['Last'][t-5] for t in range(5,len(Bitcoin['Last']))],3)\n",
    "# For these features we have to reduce the sample size due to min{len(MOM5D),len(STD21D)}<len(Bitcoin)\n",
    "N=len(MOM5D)\n",
    "Bitcoin=Bitcoin[::-1].iloc[range(0,N)] \n",
    "Bitcoin=Bitcoin[::-1] \n",
    "Bitcoin['MOM5D']=MOM5D"
   ]
  },
  {
   "cell_type": "markdown",
   "metadata": {},
   "source": [
    "We finish with the on-chain factors."
   ]
  },
  {
   "cell_type": "code",
   "execution_count": null,
   "metadata": {},
   "outputs": [],
   "source": [
    "# On-chain metrics\n",
    "on_chain_metrics=pd.read_csv('data/btc.csv', index_col=0, parse_dates=True).dropna()\n",
    "Bitcoin['MVRV_FF']=on_chain_metrics['CapMVRVFF']\n",
    "Bitcoin['HashRate']=on_chain_metrics['HashRate']\n",
    "Bitcoin['Miner_revenue']=on_chain_metrics['RevUSD']"
   ]
  },
  {
   "cell_type": "markdown",
   "metadata": {},
   "source": [
    "Let's arrange the last details of the dataset."
   ]
  },
  {
   "cell_type": "code",
   "execution_count": null,
   "metadata": {},
   "outputs": [],
   "source": [
    "# We drop features we won't use\n",
    "Bitcoin.drop('Volume',axis=1,inplace=True)\n",
    "Bitcoin.drop('VWAP',axis=1,inplace=True)\n",
    "\n",
    "# We drop NANs\n",
    "Bitcoin=Bitcoin.dropna()\n",
    "Bitcoin=Bitcoin[::-1] # We let it ordered decresently\n",
    "\n",
    "# We transform string value to float\n",
    "n_1=len(Bitcoin['CME_BitcoinFutures'])\n",
    "n_2=len(Bitcoin['ETH'])\n",
    "for i in range(0,n_1):\n",
    "\tBitcoin['CME_BitcoinFutures'][i]=text_currency_to_float(Bitcoin['CME_BitcoinFutures'][i])\n",
    "for i in range(0,n_2):\n",
    "\tBitcoin['ETH'][i]=text_currency_to_float(Bitcoin['ETH'][i])"
   ]
  },
  {
   "cell_type": "code",
   "execution_count": 42,
   "metadata": {},
   "outputs": [],
   "source": [
    "X=Bitcoin.copy()\n",
    "X.head()"
   ]
  },
  {
   "cell_type": "markdown",
   "metadata": {},
   "source": [
    "The final list of features is as follows."
   ]
  },
  {
   "cell_type": "code",
   "execution_count": 43,
   "metadata": {},
   "outputs": [
    {
     "data": {
      "text/plain": [
       "['High',\n",
       " 'Low',\n",
       " 'Last',\n",
       " 'Bid',\n",
       " 'Ask',\n",
       " 'Returns',\n",
       " 'ATR',\n",
       " 'OBV',\n",
       " 'CME_BitcoinFutures',\n",
       " 'ETH',\n",
       " 'CRUDE',\n",
       " 'Gold',\n",
       " 'Treasury_10',\n",
       " 'SPY',\n",
       " 'sma14',\n",
       " 'sma60',\n",
       " 'vol14',\n",
       " 'vol60',\n",
       " 'sma20',\n",
       " 'b_upper',\n",
       " 'b_lower',\n",
       " 'MOM5D',\n",
       " 'STD 21D',\n",
       " 'MVRV_FF',\n",
       " 'HashRate',\n",
       " 'Miner_revenue']"
      ]
     },
     "execution_count": 43,
     "metadata": {},
     "output_type": "execute_result"
    }
   ],
   "source": [
    "list(X.keys())"
   ]
  },
  {
   "cell_type": "markdown",
   "metadata": {},
   "source": [
    "Finally, we set up the dataframe with the response variable, that is, the direction of the future daily movement of BTC. Note that this address can be mathematically interpreted as the return sign."
   ]
  },
  {
   "cell_type": "code",
   "execution_count": 44,
   "metadata": {},
   "outputs": [],
   "source": [
    "# Our response feature will be the sign of BTC's returns (i.e. movement direction)\n",
    "Y=pd.DataFrame({\n",
    "\t'Sign': np.sign(X['Returns'])})\n",
    "# We transform 0's into 1's in order to work with a binary classification problem. We could have used LabelEncoder().\n",
    "for i in range(len(Y['Sign'])):\n",
    "\tif Y['Sign'][i]==0:\n",
    "\t\tY['Sign'][i]=1"
   ]
  },
  {
   "cell_type": "code",
   "execution_count": 45,
   "metadata": {},
   "outputs": [
    {
     "data": {
      "text/plain": [
       "(                High       Low      Last       Bid       Ask  Returns  \\\n",
       " Date                                                                    \n",
       " 2021-03-15  60748.78  54555.00  56196.91  56174.41  56188.70   -0.081   \n",
       " 2021-03-12  58155.99  54269.00  57881.67  57847.33  57877.59    0.036   \n",
       " 2021-03-11  57402.89  53010.00  55853.90  55914.60  55920.20    0.017   \n",
       " 2021-03-10  54939.26  51857.00  54927.29  54901.04  54927.49    0.048   \n",
       " 2021-03-09  52427.91  49316.98  52427.91  52432.31  52439.00    0.028   \n",
       " \n",
       "                     ATR          OBV CME_BitcoinFutures      ETH  ...  \\\n",
       " Date                                                              ...   \n",
       " 2021-03-15  4530.447619     0.000000              56900  1792.38  ...   \n",
       " 2021-03-12  4375.560000  7593.458385              57075   1766.9  ...   \n",
       " 2021-03-11  4271.292381   674.097023              57955  1825.79  ...   \n",
       " 2021-03-10  4240.383810 -4753.680697              56620  1794.14  ...   \n",
       " 2021-03-09  4263.443333 -9174.227512              54720   1869.1  ...   \n",
       " \n",
       "                vol14     vol60       sma20       b_upper       b_lower  \\\n",
       " Date                                                                     \n",
       " 2021-03-15  0.871893  0.990229  51234.6965  53035.655045  49433.737955   \n",
       " 2021-03-12  0.689272  1.006402  50882.4560  53976.590052  47788.321948   \n",
       " 2021-03-11  0.760553  1.015140  50789.4945  54579.461703  46999.527297   \n",
       " 2021-03-10  0.760553  1.015749  50578.5135  55113.766735  46043.260265   \n",
       " 2021-03-09  0.899468  1.012145  50441.5030  55709.379218  45173.626782   \n",
       " \n",
       "               MOM5D  STD 21D   MVRV_FF      HashRate  Miner_revenue  \n",
       " Date                                                                 \n",
       " 2021-03-15  1269.62    0.048  2.684984  1.577976e+08   5.829371e+07  \n",
       " 2021-03-12  8977.04    0.045  2.788931  1.599300e+08   6.042612e+07  \n",
       " 2021-03-11  7067.05    0.045  2.836648  1.407384e+08   5.421704e+07  \n",
       " 2021-03-10  6566.79    0.047  2.781060  1.588638e+08   5.839441e+07  \n",
       " 2021-03-09  2039.70    0.046  2.730933  1.492680e+08   5.371268e+07  \n",
       " \n",
       " [5 rows x 26 columns],\n",
       "             Sign\n",
       " Date            \n",
       " 2021-03-15  -1.0\n",
       " 2021-03-12   1.0\n",
       " 2021-03-11   1.0\n",
       " 2021-03-10   1.0\n",
       " 2021-03-09   1.0)"
      ]
     },
     "execution_count": 45,
     "metadata": {},
     "output_type": "execute_result"
    }
   ],
   "source": [
    "X.head(), Y.head()"
   ]
  },
  {
   "cell_type": "markdown",
   "metadata": {},
   "source": [
    "We scale the data to avoid problems caused by orders of different magnitudes."
   ]
  },
  {
   "cell_type": "code",
   "execution_count": 46,
   "metadata": {},
   "outputs": [],
   "source": [
    "# We escalate the data in order to perform the feature selection methods\n",
    "scaler = MinMaxScaler()\n",
    "scaled_X = scaler.fit_transform(X)\n",
    "\n",
    "# We let X as a dataframe\n",
    "X=pd.DataFrame(scaled_X,columns=list(Bitcoin.keys()),index=Bitcoin.index)  "
   ]
  },
  {
   "cell_type": "code",
   "execution_count": null,
   "metadata": {},
   "outputs": [],
   "source": [
    "X.head()"
   ]
  },
  {
   "cell_type": "markdown",
   "metadata": {},
   "source": [
    "## <font color= darkblue> Feature Selection"
   ]
  },
  {
   "cell_type": "markdown",
   "metadata": {},
   "source": [
    "Feature selection methods are intended to reduce the number of input variables to those that are believed to be most useful to a model.\n",
    "\n",
    "We have to do a distinction between the kind of analysis we are pursuing, being them: a descriptive analysis, a explanatory analysis or a predictive analysis.\n",
    "\n",
    "A descriptive analysis involves simply stating the facts as they are. A descriptive analysis should not at any point provide any conclusions or generalizations. At most a descriptive analysis may involved providing summaries, descriptive statistics such as means, standard deviations, and graphs and visualizations to better understand the data. We are looking for the \"what\".\n",
    "\n",
    "An explanatory analysis will try not only to describe the information but also to provide causal relationships between the various data presented. When we're dealing with quantitative and statistical data an explanatory analysis will provide some mathematical models tying the variables together which explain the influence they have on each other. You no longer just describe the facts, you also describe the cause and effect relationship between the facts. You are looking for the \"why\".\n",
    "\n",
    "The predictive analysis is just going one step further than the explanatory analysis and applying the relationships of mathematical models that were discovered to previously unknown data and future cases. Take into account that the predictive analysis won't necessarily involve the same features than in the explicative analysis, but even a few less. You are looking for the \"what if\".\n",
    "\n",
    "Next, we will use two feature selection methods mainly used in explanatory analysis. Although we want to perform a predictive analysis, it could be useful to se how explanatory the features are and which of them are the most explanatorys. In fact, there are many possible combinations of features to choose from, but in order not to extend ourselves too much and show a specific idea, we decided to stick with the one returned by these methods."
   ]
  },
  {
   "cell_type": "markdown",
   "metadata": {},
   "source": [
    "#### SelectKBest (For classification: f\\_classif, )\n",
    "The SelectKBest class just scores the features using a function (in this case f\\_classif but could be others) and then \"removes all but the k highest scoring features\". The f\\_classif function ANOVA F-value between label/feature for classification tasks. \n",
    "\n",
    "ANOVA is an acronym for “analysis of variance” and is a parametric statistical hypothesis test for determining whether the means from two or more samples of data (often three or more) come from the same distribution or not.\n",
    "\n",
    "An F-statistic, or F-test, is a class of statistical tests that calculate the ratio between variances values, such as the variance from two different samples or the explained and unexplained variance by a statistical test, like ANOVA. The ANOVA method is a type of F-statistic referred to here as an ANOVA f-test."
   ]
  },
  {
   "cell_type": "code",
   "execution_count": 47,
   "metadata": {},
   "outputs": [
    {
     "name": "stdout",
     "output_type": "stream",
     "text": [
      "                 Specs       Score\n",
      "5              Returns  890.526829\n",
      "21               MOM5D   54.597695\n",
      "23             MVRV_FF   13.104378\n",
      "10               CRUDE    1.843723\n",
      "7                  OBV    1.087757\n",
      "15               sma60    0.834043\n",
      "12         Treasury_10    0.791836\n",
      "22             STD 21D    0.673978\n",
      "6                  ATR    0.609570\n",
      "16               vol14    0.592126\n",
      "19             b_upper    0.434973\n",
      "18               sma20    0.379058\n",
      "17               vol60    0.370301\n",
      "14               sma14    0.339373\n",
      "20             b_lower    0.303481\n",
      "24            HashRate    0.282368\n",
      "3                  Bid    0.245523\n",
      "2                 Last    0.244707\n",
      "4                  Ask    0.244136\n",
      "9                  ETH    0.151103\n",
      "11                Gold    0.081456\n",
      "13                 SPY    0.036414\n",
      "1                  Low    0.009375\n",
      "8   CME_BitcoinFutures    0.005251\n",
      "0                 High    0.003658\n",
      "25       Miner_revenue    0.000112\n"
     ]
    }
   ],
   "source": [
    "# We apply SelectKBest class to order the most relevant features with respect to f_classif\n",
    "bestfeatures = SelectKBest(score_func=f_classif, k=len(X.keys()))\n",
    "fit = bestfeatures.fit(X,Y)\n",
    "dfscores = pd.DataFrame(fit.scores_)\n",
    "dfcolumns = pd.DataFrame(X.columns)\n",
    "# we concat two dataframes for better visualization \n",
    "featureScores = pd.concat([dfcolumns,dfscores],axis=1)\n",
    "featureScores.columns = ['Specs','Score']  #naming the dataframe columns\n",
    "print(featureScores.nlargest(len(X.keys()),'Score'))  #print 10 best features"
   ]
  },
  {
   "cell_type": "markdown",
   "metadata": {},
   "source": [
    "It can be seen that the most relevant variables are Returns, MOM5D and MVRV_FF. Following in lower order CRUDE and OBV."
   ]
  },
  {
   "cell_type": "markdown",
   "metadata": {},
   "source": [
    "#### <font color= darkblue> \n",
    "\n",
    "Next, we will show another method of selection of features based on decision trees. Here we are going to limit ourselves only to applying the method, we will explain a little more in detail the operation behind when we use them as some of the methods to classify BTC.\n",
    "\n",
    "##### <font color= darkblue> Decision Tree (High Variance)\n",
    "    \n",
    "A single decision tree is usually overfits the data it is learning from because it learn from only one pathway of decisions. Predictions from a single decision tree usually don’t make accurate predictions on new data.\n",
    "\n",
    "###### <font color= darkblue> Random Forest (Medium Variance)\n",
    "    \n",
    "Random forest models reduce the risk of overfitting by introducing randomness by:\n",
    "\\begin{itemize}\n",
    "\\item building multiple trees (n\\_estimators);\n",
    "\\item drawing observations with replacement (i.e., a bootstrapped sample);\n",
    "\\item splitting nodes on the best split among a random subset of the features selected at every node.\n",
    "\\end{itemize}\n",
    "\n",
    "##### <font color= darkblue> Extremely Randomized Trees (or Extra Trees for short)\n",
    "    \n",
    "Is an ensemble machine learning algorithm.\n",
    "\n",
    "Specifically, it is an ensemble of decision trees and is related to other ensembles of decision trees algorithms such as bootstrap aggregation (bagging) and random forest.\n",
    "\n",
    "This class implements a meta estimator that fits a number of randomized decision trees (a.k.a. extra-trees) on various sub-samples of the dataset and uses averaging to improve the predictive accuracy and control over-fitting. Bagged decision trees like Extra Trees can be used to estimate the importance of features. "
   ]
  },
  {
   "cell_type": "code",
   "execution_count": 48,
   "metadata": {
    "scrolled": false
   },
   "outputs": [
    {
     "name": "stdout",
     "output_type": "stream",
     "text": [
      "[0.02341745 0.02250477 0.0228883  0.02325348 0.02365027 0.39849194\n",
      " 0.02086329 0.02878642 0.01937727 0.02174591 0.02313906 0.02314735\n",
      " 0.02465235 0.02141748 0.02071107 0.01932197 0.02419679 0.02114105\n",
      " 0.01950027 0.02111682 0.02084231 0.050332   0.02539447 0.02658352\n",
      " 0.02672452 0.02679987]\n"
     ]
    },
    {
     "data": {
      "image/png": "[encoded data removed]",
      "text/plain": [
       "<Figure size 1440x720 with 1 Axes>"
      ]
     },
     "metadata": {},
     "output_type": "display_data"
    }
   ],
   "source": [
    "model = ExtraTreesClassifier()\n",
    "model.fit(X,Y)\n",
    "print(model.feature_importances_) #use inbuilt class feature_importances of tree based classifiers\n",
    "#plot graph of feature importances for better visualization\n",
    "feat_importances = pd.Series(model.feature_importances_, index=X.columns)\n",
    "feat_importances.nlargest(len(X.keys())).plot(kind='barh')\n",
    "plt.show()"
   ]
  },
  {
   "cell_type": "markdown",
   "metadata": {},
   "source": [
    "Note that this methodology returns returns as more relevant features to Returns and MOM5D, and to a lesser extent to OBV."
   ]
  },
  {
   "cell_type": "markdown",
   "metadata": {},
   "source": [
    "We are left with the 5 best features for this last technique."
   ]
  },
  {
   "cell_type": "code",
   "execution_count": null,
   "metadata": {},
   "outputs": [],
   "source": [
    "best_feat=list(featureScores.nlargest(5,'Score')['Specs'])\n",
    "for i in list(featureScores['Specs']):\n",
    "\tif(i not in best_feat):\n",
    "\t\tX.drop(i,axis=1,inplace=True)"
   ]
  },
  {
   "cell_type": "code",
   "execution_count": null,
   "metadata": {},
   "outputs": [],
   "source": [
    "X.head()"
   ]
  },
  {
   "cell_type": "markdown",
   "metadata": {},
   "source": [
    "### <font color= darkblue> Correlation Matrix\n",
    "    \n",
    "Correlation (Pearson's) is a measure of linear dependence between two quantitative random variables. In a less formal way, we can define Pearson's correlation coefficient as an index that can be used to measure the degree of relationship of two variables as long as they are both quantitative and continuous. In this case, we will analyze the correlation between the features of our dataset. The objective will be to stay with features that are not (too) correlated, so that they offer different information.\n",
    "\n",
    "Let's check the correlation of the remaining features."
   ]
  },
  {
   "cell_type": "code",
   "execution_count": 55,
   "metadata": {},
   "outputs": [
    {
     "data": {
      "image/png": "[encoded data removed]",
      "text/plain": [
       "<Figure size 1440x1440 with 2 Axes>"
      ]
     },
     "metadata": {},
     "output_type": "display_data"
    }
   ],
   "source": [
    "# Correlation Matrix with Heatmap\n",
    "corrmat = X.corr()\n",
    "top_corr_features = corrmat.index\n",
    "plt.figure(figsize=(20,20))\n",
    "#plot heat map\n",
    "g=sns.heatmap(X[top_corr_features].corr(),annot=True,cmap=\"RdYlGn\")\n",
    "plt.show()"
   ]
  },
  {
   "cell_type": "markdown",
   "metadata": {},
   "source": [
    "It can be seen that there is a low correlation between almost all the features, which indicates that in some sense each variable is providing different information."
   ]
  },
  {
   "cell_type": "markdown",
   "metadata": {},
   "source": [
    "### <font color= darkblue> Split and normalization of the dataset\n",
    "\n",
    "Feature scaling can help algorithms converge to local / global minima efficiently. In addition, it can happen that the measures used in the features vary a lot in magnitude from one to another, which may '' confuse '' the model, interpreting this that one feature is more relevant than the others just by using larger numbers. For example, if one does not normalize, it could happen that in the process of updating the weights in neural networks by means of the gradient descent method, the update generates steps that are too large, preventing the method from converging.\n",
    "\n",
    "We will use the MinMaxScaler scaler from the Sci-kit Learn library."
   ]
  },
  {
   "cell_type": "markdown",
   "metadata": {},
   "source": [
    "#### <font color= darkblue>Spliting the data</font>\n",
    "\n",
    "A critical part of machine learning is having a clear distinction between the data that will be used to train the model and the data that will be used to assess the predictive power of the model. Therefore, we will use the classic Train / Test split, with a Train set of 70% of the data.\n",
    "\n",
    "Some of the machine learning methods that we will use also allow us to specify if we want to consider a Validation Set in the model training."
   ]
  },
  {
   "cell_type": "code",
   "execution_count": 59,
   "metadata": {},
   "outputs": [],
   "source": [
    "# 70% train/test split\n",
    "split = int(len(X) * 0.7)\n",
    "\n",
    "# We transform Y to a binary classification problem's values (0 y 1)\n",
    "from sklearn.preprocessing import LabelEncoder \n",
    "encoder = LabelEncoder() \n",
    "encoder.fit(Y) \n",
    "encoded_Y = encoder.transform(Y) \n",
    "# We transform encoded_Y into a dataframe in order to use .iloc and being able to make the train/test split\n",
    "Y = pd.DataFrame(encoded_Y, columns = ['Column_A'],index=Y.index) \n",
    "\n",
    "# Create train data set\n",
    "# We have to twist the dataset\n",
    "X_train, y_train = X[::-1][:split], Y[::-1][:split]\n",
    "# Test data after train split\n",
    "X_test, y_test = X[::-1][split:], Y[::-1][split:]\n",
    "\n",
    "\n",
    "# Scale the features MinMax for training and test datasets\n",
    "scaler = MinMaxScaler()\n",
    "scaled_X_train = scaler.fit_transform(X_train)\n",
    "scaled_X_test = scaler.transform(X_test)\n",
    "# We change from array to dataframe\n",
    "X_train=pd.DataFrame(scaled_X_train,columns=X.columns,index=X[::-1].iloc[:split].index)\n",
    "y_train=pd.DataFrame(y_train,columns=Y.columns,index=Y[::-1][:split].index)\n",
    "X_test=pd.DataFrame(scaled_X_test,columns=X.columns,index=X[::-1][split:].index)\n",
    "y_test=pd.DataFrame(y_test,columns=Y.columns,index=Y[::-1][split:].index)"
   ]
  },
  {
   "cell_type": "markdown",
   "metadata": {},
   "source": [
    "#### <font color= darkblue> Reshaping the Data\n",
    "    \n",
    "For the LSTM neural network we need to change the data format since the network consumes data in 3 dimensions of the form: quantity of data, quantity of time-steps and quantity of features."
   ]
  },
  {
   "cell_type": "code",
   "execution_count": 60,
   "metadata": {},
   "outputs": [],
   "source": [
    "# Reshaping the Data for LSTM\n",
    "# reshaping into 3D Array\n",
    "X_train_LSTM=np.array(scaled_X_train).reshape(len(scaled_X_train),1,len(list(X.keys()))) # len(scaled_train_data) samples; 1 timesteps per sample; 9 features per timestep or 1 samples; len(scaled_train_data) timesteps; 9 features per timestep?\n",
    "X_test_LSTM=np.array(scaled_X_test).reshape(len(scaled_X_test),1,len(list(X.keys())))"
   ]
  },
  {
   "cell_type": "markdown",
   "metadata": {},
   "source": [
    "\\clearpage"
   ]
  },
  {
   "cell_type": "markdown",
   "metadata": {},
   "source": [
    "# <font color= darkblue> Part II:  Building Models</font> "
   ]
  },
  {
   "cell_type": "markdown",
   "metadata": {},
   "source": [
    "Next, we will build, train, and test different data science models for the problem at hand.\n",
    "\n",
    "For each model of them we will show their '' score '', that is, their performance, in the test set.\n",
    "\n",
    "In the training of each model we will use the Python time function to measure the time it takes for each model to study the train set.\n",
    "\n",
    "In addition, for those methods that calculate coefficients, we will also show the values ​​of the estimated coefficients, so as to interpret which features are the most important for that model. Note that this last idea could have been used as a feature selection method or, at least, as a technique to interpret the relevance of the features according to each model. Again, in order not to extend ourselves too much and to be able to cover the things that interest us, we decided to do the analysis directly on the subgroup of features that we chose, but this other idea is worth mentioning.\n",
    "\n",
    "We will not delve into the operation of the methods in depth since it is not the intention of the work, we will only mention the main ideas. For those who are interested in more information, we suggest you visit the bibliography."
   ]
  },
  {
   "cell_type": "markdown",
   "metadata": {},
   "source": [
    "We define the empty list runtimes in which we will save all the training times."
   ]
  },
  {
   "cell_type": "code",
   "execution_count": null,
   "metadata": {},
   "outputs": [],
   "source": [
    "runtimes=[]"
   ]
  },
  {
   "cell_type": "markdown",
   "metadata": {},
   "source": [
    "### <font color= darkblue> 1. Naive Bayes\n",
    "    \n",
    "The Naive Bayes method is a supervised learning algorithm based on the application of the Bayes theorem with the \"naive\" or innocent assumption of conditional independence between pairs of features given the value of the class of the response variable.\n",
    "\n",
    "In abstract, the probability model for a classifier is\n",
    "$$ p (C | F_1, \\dots, F_n), $$\n",
    "on a discrete dependent variable $ C $. This variable is conditioned by several independent variables $ F_1, \\dots, F_n $. By Bayes' theorem we have\n",
    "$$ p (C | F_1, \\dots, F_n) = \\frac{p (C) p (F_1, \\dots, F_n | C)}{p (F_1, \\dots, F_n)}. $$\n",
    "\n",
    "Since we are assuming independence, by the definition of conditional probability we have\n",
    "$$ p (C, F_1, \\dots, F_n) = p (C) \\prod p (F_i | C).$$\n",
    "    \n",
    "Later\n",
    "$$ p (C | F_1, \\dots, F_n) = \\frac{1}{Z} \\prod p (F_i | C), $$\n",
    "where $ Z $ is a factor that depends only on $ F_1, \\dots, F_n $."
   ]
  },
  {
   "cell_type": "code",
   "execution_count": 62,
   "metadata": {},
   "outputs": [
    {
     "name": "stdout",
     "output_type": "stream",
     "text": [
      "score on test: 0.49140401146131807\n",
      "score on train: 0.6533333333333333\n"
     ]
    }
   ],
   "source": [
    "mnb = MultinomialNB()\n",
    "\n",
    "start_mnb = time.time()\n",
    "mnb.fit(X_train, y_train)\n",
    "end_mnb = time.time()\n",
    "mnb_runtime=end_mnb - start_mnb\n",
    "\n",
    "print('Runtime:',mnb_runtime)\n",
    "print(\"score on test: %.3f\"  %mnb.score(X_test, y_test))\n",
    "print(\"score on train: %.3f\" %mnb.score(X_train, y_train))"
   ]
  },
  {
   "cell_type": "code",
   "execution_count": null,
   "metadata": {},
   "outputs": [],
   "source": [
    "runtimes.append(mnb_runtime)"
   ]
  },
  {
   "cell_type": "markdown",
   "metadata": {},
   "source": [
    "We organize the features in decreasing order of importance, according to the value of the coefficient assigned by the model for each feature."
   ]
  },
  {
   "cell_type": "code",
   "execution_count": null,
   "metadata": {},
   "outputs": [],
   "source": [
    "coef=list(mnb.fit(X_train, y_train).coef_[0])\n",
    "max_coef_index=list(np.argsort(coef)[::-1])\n",
    "for i in max_coef_index:\n",
    "    print(list(X_train.columns)[i]+' --> %.3f' %coef[i])"
   ]
  },
  {
   "cell_type": "markdown",
   "metadata": {},
   "source": [
    "### <font color= darkblue> 2. Logistic Regression\n",
    "\n",
    "Logistic regression is a statistical model that in its basic form uses a logistic function to model a binary response variable through the multiple linear model.\n",
    "\n",
    "In this model, the log-odds for the value '' +1 '' is a linear combination of the predictors. The function that converts the log of the probability to a probability is called the logistic function, hence the name. The unit of measurement of the log-odds scale is called the logit (logistic unit).\n",
    "\n",
    "The model is then\n",
    "$$ logit (P (Y = 1 | X)) = \\beta_0 + \\sum \\beta_i X_i. $$"
   ]
  },
  {
   "cell_type": "code",
   "execution_count": 63,
   "metadata": {},
   "outputs": [
    {
     "name": "stdout",
     "output_type": "stream",
     "text": [
      "score on test: 0.6289398280802292\n",
      "score on train: 0.8833333333333333\n"
     ]
    }
   ],
   "source": [
    "lr=LogisticRegression(max_iter=1000)\n",
    "\n",
    "start_lr = time.time()\n",
    "lr.fit(X_train, y_train)\n",
    "end_lr = time.time()\n",
    "lr_runtime=end_lr - start_lr\n",
    "\n",
    "print('Runtime:',lr_runtime)\n",
    "print(\"score on test: %.3f\" % lr.score(X_test, y_test))\n",
    "print(\"score on train: %.3f\" % lr.score(X_train, y_train))"
   ]
  },
  {
   "cell_type": "code",
   "execution_count": null,
   "metadata": {},
   "outputs": [],
   "source": [
    "runtimes.append(lr_runtime)"
   ]
  },
  {
   "cell_type": "code",
   "execution_count": null,
   "metadata": {},
   "outputs": [],
   "source": [
    "coef=list(lr.fit(X_train, y_train).coef_[0])\n",
    "max_coef_index=list(np.argsort(coef)[::-1])\n",
    "for i in max_coef_index:\n",
    "    print(list(X_train.columns)[i]+' --> %.3f' %coef[i])"
   ]
  },
  {
   "cell_type": "markdown",
   "metadata": {},
   "source": [
    "### <font color= darkblue> 3. K-Nearest Neighbours\n",
    "\n",
    "The k-NN classification method is a method that is based on classifying according to the plurality of the votes of the \"closest\" neighbors $ K $ of the point of the sample that we want to classify and for a certain notion of distance. For example, if $ K = 1 $ the object will be classified as the class of its closest neighbor.\n",
    "\n",
    "As this algorithm is based on a distance, if the features are represented in different units or in very different scales, the normalization of the data can dramatically improve the performance of the method.\n",
    "\n",
    "A peculiarity of the K-NN algorithm is its sensitivity to the local structure of the data."
   ]
  },
  {
   "cell_type": "code",
   "execution_count": 64,
   "metadata": {},
   "outputs": [
    {
     "name": "stdout",
     "output_type": "stream",
     "text": [
      "train shape: (300, 5)\n",
      "score on test: 0.501432664756447\n",
      "score on train: 0.9333333333333333\n"
     ]
    }
   ],
   "source": [
    "knn = KNeighborsClassifier(algorithm = 'brute', n_jobs=-1)\n",
    "\n",
    "start_knn = time.time()\n",
    "knn.fit(X_train, y_train)\n",
    "end_knn = time.time()\n",
    "knn_runtime=end_knn - start_knn\n",
    "\n",
    "print('Runtime:',knn_runtime)\n",
    "print(\"score on test: %.3f\" % knn.score(X_test, y_test))\n",
    "print(\"score on train: %.3f\" % knn.score(X_train, y_train))"
   ]
  },
  {
   "cell_type": "code",
   "execution_count": null,
   "metadata": {},
   "outputs": [],
   "source": [
    "runtimes.append(knn_runtime)"
   ]
  },
  {
   "cell_type": "markdown",
   "metadata": {},
   "source": [
    "### <font color= darkblue> 4. Support Vector Machine\n",
    "    \n",
    "SVM is a binary classification method that interprets the data as points in a $ p $ -dimensional space, with $ p $ the amount of features considered, and what it seeks is to separate them by means of a hyperplane, that is, by means of a subspace of the ambient space of dimension $ p-1 $. As in general there are infinite hyperplanes that separate the data, a good choice is the one with the greatest separation, or margin, between the two classes. That is, the hyperplane that maximizes its distance to the closest point in the sample is chosen.\n",
    "\n",
    "A prior notion of the Perceptron technique is recommended, since SVM can be thought of as an improvement and generalization of it."
   ]
  },
  {
   "cell_type": "code",
   "execution_count": 65,
   "metadata": {},
   "outputs": [
    {
     "name": "stdout",
     "output_type": "stream",
     "text": [
      "score on test: 0.839541547277937\n",
      "score on train: 0.98\n"
     ]
    }
   ],
   "source": [
    "svm=LinearSVC(C=100)\n",
    "\n",
    "start_svm = time.time()\n",
    "svm.fit(X_train, y_train)\n",
    "end_svm = time.time()\n",
    "svm_runtime=end_svm - start_svm\n",
    "\n",
    "print('Runtime:',svm_runtime)\n",
    "print(\"score on test: %.3f\" % svm.score(X_test, y_test))\n",
    "print(\"score on train: %.3f\" % svm.score(X_train, y_train))"
   ]
  },
  {
   "cell_type": "code",
   "execution_count": null,
   "metadata": {},
   "outputs": [],
   "source": [
    "runtimes.append(svm_runtime)"
   ]
  },
  {
   "cell_type": "code",
   "execution_count": null,
   "metadata": {},
   "outputs": [],
   "source": [
    "coef=list(svm.fit(X_train, y_train).coef_[0])\n",
    "max_coef_index=list(np.argsort(coef)[::-1])\n",
    "for i in max_coef_index:\n",
    "    print(list(X_train.columns)[i]+' --> %.3f' %coef[i])"
   ]
  },
  {
   "cell_type": "markdown",
   "metadata": {},
   "source": [
    "### <font color= darkblue> 5. Decision Tree Classifier\n",
    "    \n",
    "A decision tree is a structure made up of nodes, branches and leaves, in which each node represents a test on an attribute (for example that $ X_1> 58 $), each branch represents the result of the test and each leaf represents the label or class for the data considered. The path from the root to the leaves represents classification rules.\n",
    "\n",
    "The decision tree can be linearized into decision rules, where the outcome is the contents of the leaf node, and the conditions along the path form a conjunction in the if clause. In general, the rules have the form:\n",
    "\n",
    "if condition1 and condition2 and condition3 then outcome.\n",
    "\n",
    "Namely, a Decision Tree is a non-parametric supervised learning method used for classification and regression which goal is to create a model that predicts the value of a target variable by learning simple decision rules (if-else) inferred from the data features."
   ]
  },
  {
   "cell_type": "code",
   "execution_count": 66,
   "metadata": {},
   "outputs": [
    {
     "name": "stdout",
     "output_type": "stream",
     "text": [
      "score on test: 1.0\n",
      "score on train: 1.0\n"
     ]
    }
   ],
   "source": [
    "clf = DecisionTreeClassifier()\n",
    "\n",
    "start_clf = time.time()\n",
    "clf.fit(X_train, y_train)\n",
    "end_clf = time.time()\n",
    "clf_runtime=end_clf - start_clf\n",
    "\n",
    "print('Runtime:',clf_runtime)\n",
    "print(\"score on test: %.3f\"  % clf.score(X_test, y_test))\n",
    "print(\"score on train: %.3f\" % clf.score(X_train, y_train))"
   ]
  },
  {
   "cell_type": "code",
   "execution_count": null,
   "metadata": {},
   "outputs": [],
   "source": [
    "runtimes.append(clf_runtime)"
   ]
  },
  {
   "cell_type": "code",
   "execution_count": null,
   "metadata": {},
   "outputs": [],
   "source": [
    "coef=list(clf.fit(X_train, y_train).feature_importances_)\n",
    "max_coef_index=list(np.argsort(coef)[::-1])\n",
    "for i in max_coef_index:\n",
    "    print(list(X_train.columns)[i]+' --> %.3f' %coef[i])"
   ]
  },
  {
   "cell_type": "markdown",
   "metadata": {},
   "source": [
    "Applying a single decision tree to this feature rich dataset leads to massive overfitting. Indeed, an accuracy of 100\\% means it has remembered exactly the training dataset and is therefore generalising poorly on the test data. What we can see here is one of the cons of single decision tree which can’t handle data with too many features.\n",
    "\n",
    "However, this problem can be avoided by fine-tuning the model parameters or by using an ensemble learning technique such as Random Forest. The following methods show examples of this.\n",
    "\n",
    "In the bibliography we leave a link with an article that deals in depth with the correct setting of the parameters of a classifier by decision tree."
   ]
  },
  {
   "cell_type": "markdown",
   "metadata": {},
   "source": [
    "### <font color= darkblue> 6. Bagging Decision Tree (Ensemble Learning I)\n",
    "    \n",
    "Bootstrap aggregating, also called bagging (from bootstrap aggregating), is a machine learning ensemble meta-algorithm designed to improve the stability and accuracy of machine learning algorithms used in statistical classification and regression. It also reduces variance and helps to avoid overfitting. \n",
    "\n",
    "When a decision tree overfits, applying an ensemble learning algorithm like bagging might improve the quality of the prediction model. \n",
    "\n",
    "In bagging, the training data is increased by taking bootstraps from the training data. This means multiple samples are taken (with replacement) from the training data and the model is trained on these sub-datasets. The final prediction is the average over all predictions from each bootstrap sample.\n",
    "    \n",
    "Strictly speaking, we must be a bit careful about using this type of models that involve the bootstrap technique when dealing with time series, since the classic bootstrap resampling does not reflect the temporal dependence of these types of data. However, we wanted to show it to illustrate one more step in the methods of ensemble learning.\n",
    "\n",
    "We'll cover this time series bootstrap topic later."
   ]
  },
  {
   "cell_type": "code",
   "execution_count": 67,
   "metadata": {},
   "outputs": [
    {
     "name": "stdout",
     "output_type": "stream",
     "text": [
      "score on test: 1.0\n",
      "score on train: 1.0\n"
     ]
    }
   ],
   "source": [
    "# max_samples: maximum size 0.5=50% of each sample taken from the full dataset\n",
    "# max_features: maximum of features 1=100% taken here all 10K \n",
    "# n_estimators: number of decision trees \n",
    "bg=BaggingClassifier(DecisionTreeClassifier(),max_samples=0.5,max_features=1.0,n_estimators=10)\n",
    "\n",
    "start_bg = time.time()\n",
    "bg.fit(X_train, y_train)\n",
    "end_bg = time.time()\n",
    "bg_runtime=end_bg - start_bg\n",
    "\n",
    "print('Runtime:',bg_runtime)\n",
    "print(\"score on test: %.3f\" % bg.score(X_test, y_test))\n",
    "print(\"score on train: %.3f\" % bg.score(X_train, y_train))"
   ]
  },
  {
   "cell_type": "code",
   "execution_count": null,
   "metadata": {},
   "outputs": [],
   "source": [
    "runtimes.append(bg_runtime)"
   ]
  },
  {
   "cell_type": "markdown",
   "metadata": {},
   "source": [
    "### <font color= darkblue> 7. Boosting Decision Tree (Ensemble Learning II)\n",
    "    \n",
    "In machine learning, boosting is an ensemble meta-algorithm for primarily reducing bias, and also variance in supervised learning, and a family of machine learning algorithms that convert weak learners to strong ones.\n",
    "\n",
    "\"Can a set of weak learners create a single strong learner?\" [Kearns and Valiant (1988, 1989)] \n",
    "\n",
    "A weak learner is defined to be a classifier that is only slightly correlated with the true classification (it can label examples better than random guessing). In contrast, a strong learner is a classifier that is arbitrarily well-correlated with the true classification.\n",
    "\n",
    "While boosting is not algorithmically constrained, most boosting algorithms consist of iteratively learning weak classifiers with respect to a distribution and adding them to a final strong classifier. When they are added, they are weighted in a way that is related to the weak learners' accuracy. After a weak learner is added, the data weights are readjusted, known as \"re-weighting\". Misclassified input data gain a higher weight and examples that are classified correctly lose weight. Thus, future weak learners focus more on the examples that previous weak learners misclassified.\n",
    "\n",
    "In general, we cannot use Boosting to improve a fully overfitted model with 100 \\% accuracy. To apply this method to our decision tree above, we have to twist it a bit."
   ]
  },
  {
   "cell_type": "code",
   "execution_count": 68,
   "metadata": {},
   "outputs": [
    {
     "name": "stdout",
     "output_type": "stream",
     "text": [
      "score on test: 1.0\n",
      "score on train: 1.0\n"
     ]
    }
   ],
   "source": [
    "adb = AdaBoostClassifier(DecisionTreeClassifier(min_samples_split=10,max_depth=4),n_estimators=10,learning_rate=0.6)\n",
    "\n",
    "start_adb = time.time()\n",
    "adb.fit(X_train, y_train)\n",
    "end_adb = time.time()\n",
    "adb_runtime=end_adb - start_adb\n",
    "\n",
    "print('Runtime:',adb_runtime)\n",
    "print(\"score on test: %.3f\" % adb.score(X_test, y_test))\n",
    "print(\"score on train: %.3f\" % adb.score(X_train, y_train))"
   ]
  },
  {
   "cell_type": "code",
   "execution_count": null,
   "metadata": {},
   "outputs": [],
   "source": [
    "runtimes.append(adb_runtime)"
   ]
  },
  {
   "cell_type": "code",
   "execution_count": null,
   "metadata": {},
   "outputs": [],
   "source": [
    "coef=list(adb.fit(X_train, y_train).feature_importances_)\n",
    "max_coef_index=list(np.argsort(coef)[::-1])\n",
    "for i in max_coef_index:\n",
    "    print(list(X_train.columns)[i]+' --> %.3f' %coef[i])"
   ]
  },
  {
   "cell_type": "markdown",
   "metadata": {},
   "source": [
    "### <font color= darkblue> 8. Random Forest (Ensemble Learning III)\n",
    "    \n",
    "Random forests or random decision forests are an ensemble learning method for classification, regression and other tasks that operates by constructing a multitude of decision trees at training time. For classification tasks, the output of the random forest is the class selected by most trees.\n",
    "\n",
    "ie. the Random Forest classifier is basically a modified bagging algorithm of a Decision Tree that selects the subsets differently. We found out that max\\_depth=9 is a good value for this feature-rich dataset."
   ]
  },
  {
   "cell_type": "code",
   "execution_count": 69,
   "metadata": {
    "scrolled": true
   },
   "outputs": [
    {
     "name": "stdout",
     "output_type": "stream",
     "text": [
      "score on test: 1.0\n",
      "score on train: 1.0\n"
     ]
    }
   ],
   "source": [
    "# n_estimators = number of decision trees\n",
    "rf = RandomForestClassifier(n_estimators=30, max_depth=9)\n",
    "\n",
    "start_rf = time.time()\n",
    "rf.fit(X_train, y_train)\n",
    "end_rf = time.time()\n",
    "rf_runtime=end_rf - start_rf\n",
    "\n",
    "print('Runtime:',rf_runtime)\n",
    "print(\"score on test: %.3f\" % rf.score(X_test, y_test))\n",
    "print(\"score on train: %.3f\" % rf.score(X_train, y_train))"
   ]
  },
  {
   "cell_type": "code",
   "execution_count": null,
   "metadata": {},
   "outputs": [],
   "source": [
    "runtimes.append(rf_runtime)"
   ]
  },
  {
   "cell_type": "code",
   "execution_count": null,
   "metadata": {},
   "outputs": [],
   "source": [
    "coef=list(rf.fit(X_train, y_train).feature_importances_)\n",
    "max_coef_index=list(np.argsort(coef)[::-1])\n",
    "for i in max_coef_index:\n",
    "    print(list(X_train.columns)[i]+' --> %.3f' %coef[i])"
   ]
  },
  {
   "cell_type": "markdown",
   "metadata": {},
   "source": [
    "### <font color= darkblue> 9. Voting Classifier (Ensemble Learning IV)\n",
    "    \n",
    "This classifier from the ensemble learning toolbox evaluates different classifiers and selects the best out of it.\n",
    "\n",
    "The idea behind the VotingClassifier is to combine conceptually different machine learning classifiers and use a majority vote or the average predicted probabilities to predict the class labels. Such a classifier can be useful for a set of equally well performing models in order to balance out their individual weaknesses\n",
    "\n",
    "So let’s use this classifier to combine some of the models we had so far and apply the Voting Classifier on\n",
    "\n",
    "\\begin{itemize}\n",
    "\\item Naive Bayes;\n",
    "\\item Logistic Regression;\n",
    "\\item Random Forest;\n",
    "\\item Support Vector Machine.\n",
    "\\end{itemize}"
   ]
  },
  {
   "cell_type": "code",
   "execution_count": 70,
   "metadata": {},
   "outputs": [
    {
     "name": "stdout",
     "output_type": "stream",
     "text": [
      "score on test: 0.6289398280802292\n",
      "score on train: 1.0\n"
     ]
    }
   ],
   "source": [
    "# 1) naive bias = mnb\n",
    "# 2) logistic regression =lr\n",
    "# 3) random forest =rf\n",
    "# 4) support vector machine = svm\n",
    "evc=VotingClassifier(estimators=[('mnb',mnb),('lr',lr),('rf',rf),('svm',svm)],voting='hard')\n",
    "\n",
    "start_evc = time.time()\n",
    "evc.fit(X_train, y_train)\n",
    "end_evc = time.time()\n",
    "evc_runtime=end_evc - start_evc\n",
    "\n",
    "print('Runtime:',evc_runtime)\n",
    "print(\"score on test: \" + str(evc.score(X_test, y_test)))\n",
    "print(\"score on train: \"+ str(evc.score(X_train, y_train)))"
   ]
  },
  {
   "cell_type": "code",
   "execution_count": null,
   "metadata": {},
   "outputs": [],
   "source": [
    "runtimes.append(evc_runtime)"
   ]
  },
  {
   "cell_type": "markdown",
   "metadata": {},
   "source": [
    "### <font color= darkblue> 10. PPR\n",
    "\n",
    "Projection pursuit regression (PPR) is a statistical model developed by Jerome H. Friedman and Werner Stuetzle which is an extension of additive models. This model adapts the additive models in that it first projects the data matrix of explanatory variables in the optimal direction before applying smoothing functions to these explanatory variables.\n",
    "\n",
    "The model consists of linear combinations of ridge functions: non-linear transformations of linear combinations of the explanatory variables.\n",
    "\n",
    "For a given set of data $\\{(y_{i},x_{i})\\}_{i=1}^{n}\\}$, the goal is to minimize the error function\n",
    "\n",
    "$$\\min _{f_{j},\\beta _{j}}S=\\sum _{i=1}^{n}\\left[y_{i}-\\sum _{j=1}^{r}f_{j}(\\beta _{j}^{\\mathrm {T} }x_{i})\\right]^{2},$$\n",
    "\n",
    "over the functions $f_{j}$ and vectors $\\beta _{j}$. \n",
    "\n",
    "Previously-fitted pairs can be readjusted after new fit-pairs are determined by an algorithm known as backfitting, which entails reconsidering a previous pair, recalculating the residual given how other pairs have changed, refitting to account for that new information, and then cycling through all fit-pairs this way until parameters converge.\n",
    "\n",
    "The PPR model is a universal estimator, as it can approximate any continuous function in $\\mathbb{R}^p$.\n",
    "\n",
    "The Python skpp library and created by pavelkomarov (see bibliography), offers not only the PPR but the Projection Pursuit Classifier whose definition ends up invoking the PPR but for a modification of the original problem."
   ]
  },
  {
   "cell_type": "code",
   "execution_count": 71,
   "metadata": {},
   "outputs": [],
   "source": [
    "# r: The number of terms in the underlying additive model. The input will be put through r projections, r functions of those projections, and then multiplication by r output vectors to determine output.\n",
    "#ppr = ProjectionPursuitRegressor(r=10)\n",
    "ppr = ProjectionPursuitClassifier(r=10)\n",
    "\n",
    "start_ppr = time.time()\n",
    "ppr.fit(X_train, y_train)\n",
    "end_ppr = time.time()\n",
    "ppr_runtime=end_ppr - start_ppr\n",
    "\n",
    "print('Runtime:',ppr_runtime)\n",
    "ppr_prediction=ppr.predict(X_test)"
   ]
  },
  {
   "cell_type": "code",
   "execution_count": 72,
   "metadata": {},
   "outputs": [
    {
     "name": "stdout",
     "output_type": "stream",
     "text": [
      "MLP: [accuracy, crossentropy loss, zero/one loss] = [0.6446991404011462, 12.271882616950714, 0.3553008595988538]\n"
     ]
    }
   ],
   "source": [
    "runtimes.append(ppr_runtime)"
   ]
  },
  {
   "cell_type": "markdown",
   "metadata": {},
   "source": [
    "### <font color= darkblue> 11. Neural Network and Deep Learning\n",
    "    \n",
    "It is assumed that the reader is aware of the basic notions about ANNs and we will only mention that deep learning is about neural networks that have at least two hidden layers that are used to progressively extract higher-level characteristics from the training data.\n",
    "\n",
    "We will use two types of networks: MLP (multi-layer perceptron) and LSTM.\n",
    "\n",
    "When building both networks we will use the following hyperparameters:\n",
    "\n",
    "\\begin{itemize}\n",
    "    \\item optimizer=’adam’; \n",
    "    \\item metrics=’binary accuracy’; \n",
    "    \\item loss=’binary crossentropy’; \n",
    "    \\item activation=’relu’ for the first dense layer (for the LSTM case) and activation=’sigmoid’ for the second, since it is a binary classification problem.\n",
    "\\end{itemize}\n",
    "    \n",
    "For training we have used\n",
    "\\begin{itemize}\n",
    "    \\item For MLP\n",
    "        \\begin{itemize} \n",
    "            \\item batch\\_size=1 (stochastic gradient descent);\n",
    "            \\item epochs=100;\n",
    "            \\item validation\\_split=0.33 which also helps us to show how the network improves as epochs increase;\n",
    "        \\end{itemize}\n",
    "    \\item For LSTM: \n",
    "        \\begin{itemize}\n",
    "            \\item batch\\_size=len(X\\_train\\_LSTM)\n",
    "            \\item epochs=200;\n",
    "            \\item validation\\_split=0.33.\n",
    "        \\end{itemize}\n",
    "\\end{itemize}"
   ]
  },
  {
   "cell_type": "markdown",
   "metadata": {},
   "source": [
    "When building neural networks, we must be careful not to use too many layers and neurons, specifically if the data set is not particularly large. Many parameters will inevitably improve in-sample performance (on the train set) but will also lead to the risk of overfitting. Additionally, the training process will require much more computational power, thus increasing the risk of non-convergence.\n",
    "\n",
    "Another important reason to avoid the use of overly complex networks, and to use methods that reduce overfitting such as dropout, is the fact that we are training with financial time series that often have noisy data (that is, patterns that are not essential but merely concomitants)."
   ]
  },
  {
   "cell_type": "markdown",
   "metadata": {},
   "source": [
    "### <font color= darkblue> Multilayer Perceptron (MLP)\n",
    "    \n",
    "MLP consists of at least three layers of nodes: an input layer, a hidden layer, and an output layer. With the exception of the input nodes, each node is a neuron that uses non-linear activation functions.\n",
    "\n",
    "MLP uses a supervised learning technique called backpropagation for its training. These multiple layers and non-linear activation functions are the characteristics that distinguish MLP from the classical perceptron. Also, MLP can distinguish data that is not linearly separable.\n",
    "\n",
    "We define a function to build the model with a specific number of layers, each with a predefined number of neurons. This function is useful in that it allows you to easily change network hyperparameters (such as optimizer, trigger function, etc.) without having to rewrite all the code. The function returns the compiled model."
   ]
  },
  {
   "cell_type": "code",
   "execution_count": 75,
   "metadata": {},
   "outputs": [],
   "source": [
    "# MLP: mirar https://machinelearningmastery.com/binary-classification-tutorial-with-the-keras-deep-learning-library/ + https://scikit-learn.org/stable/modules/neural_networks_supervised.html\n",
    "# define model\n",
    "\n",
    "def model_MLP(optimizer,activation,loss,metrics):\n",
    "  model = Sequential()\n",
    "\n",
    "  model.add(Dense(64,  activation = activation))\n",
    "  \n",
    "  model.add(Dense(1, activation='sigmoid'))\n",
    "  \n",
    "  model.compile(optimizer=optimizer, loss=loss, metrics=metrics)\n",
    "\n",
    "  return model\n",
    "\n",
    "MLP=model_MLP(optimizer='adam',activation='relu',loss='binary_crossentropy',metrics=['binary_accuracy'])  "
   ]
  },
  {
   "cell_type": "markdown",
   "metadata": {},
   "source": [
    "#### <font color= darkblue> Fitting the Model</font>\n",
    "\n",
    "The classic Stochastic gradient descent (SGD) method has been enhanced by various adaptive moment estimation (ADAM) techniques that build on AdaGrad and RMSProp \\& others. There is also some *Practical Advice for Building Deep Neural Networks* by Matt H and Daniel R that explains why the ADAM optimiser, ReLU activation function and variance scaled initialisation are preferred.\n",
    " \n",
    " In fact, while Stochastic Gradient Descent is used in many Neural Network problems, it has the problem of converging to a local minimum. This of course presents a problem considering Bitcoin price. Some other nice optimizers are variations of adaptive learning algorithms, like Adam, Adagrad, and RMSProp. Adam was found to work slightly better than the rest."
   ]
  },
  {
   "cell_type": "code",
   "execution_count": 76,
   "metadata": {},
   "outputs": [
    {
     "name": "stdout",
     "output_type": "stream",
     "text": [
      "Epoch 1/200\n",
      "1/1 - 1s - loss: 0.6842 - binary_accuracy: 0.5200 - val_loss: 0.6714 - val_binary_accuracy: 0.6300\n",
      "Epoch 2/200\n",
      "1/1 - 0s - loss: 0.6830 - binary_accuracy: 0.5200 - val_loss: 0.6710 - val_binary_accuracy: 0.6300\n",
      "Epoch 3/200\n",
      "1/1 - 0s - loss: 0.6817 - binary_accuracy: 0.5200 - val_loss: 0.6705 - val_binary_accuracy: 0.6300\n",
      "Epoch 4/200\n",
      "1/1 - 0s - loss: 0.6805 - binary_accuracy: 0.5200 - val_loss: 0.6700 - val_binary_accuracy: 0.6300\n",
      "Epoch 5/200\n",
      "1/1 - 0s - loss: 0.6794 - binary_accuracy: 0.5200 - val_loss: 0.6694 - val_binary_accuracy: 0.6300\n",
      "Epoch 6/200\n",
      "1/1 - 0s - loss: 0.6782 - binary_accuracy: 0.5200 - val_loss: 0.6688 - val_binary_accuracy: 0.6300\n",
      "Epoch 7/200\n",
      "1/1 - 0s - loss: 0.6771 - binary_accuracy: 0.5200 - val_loss: 0.6682 - val_binary_accuracy: 0.6300\n",
      "Epoch 8/200\n",
      "1/1 - 0s - loss: 0.6760 - binary_accuracy: 0.5200 - val_loss: 0.6675 - val_binary_accuracy: 0.6300\n",
      "Epoch 9/200\n",
      "1/1 - 0s - loss: 0.6749 - binary_accuracy: 0.5250 - val_loss: 0.6668 - val_binary_accuracy: 0.6300\n",
      "Epoch 10/200\n",
      "1/1 - 0s - loss: 0.6738 - binary_accuracy: 0.5300 - val_loss: 0.6661 - val_binary_accuracy: 0.6300\n",
      "Epoch 11/200\n",
      "1/1 - 0s - loss: 0.6727 - binary_accuracy: 0.5450 - val_loss: 0.6653 - val_binary_accuracy: 0.6300\n",
      "Epoch 12/200\n",
      "1/1 - 0s - loss: 0.6716 - binary_accuracy: 0.5500 - val_loss: 0.6644 - val_binary_accuracy: 0.6300\n",
      "Epoch 13/200\n",
      "1/1 - 0s - loss: 0.6705 - binary_accuracy: 0.5600 - val_loss: 0.6636 - val_binary_accuracy: 0.6300\n",
      "Epoch 14/200\n",
      "1/1 - 0s - loss: 0.6694 - binary_accuracy: 0.5650 - val_loss: 0.6627 - val_binary_accuracy: 0.6300\n",
      "Epoch 15/200\n",
      "1/1 - 0s - loss: 0.6684 - binary_accuracy: 0.5800 - val_loss: 0.6618 - val_binary_accuracy: 0.6300\n",
      "Epoch 16/200\n",
      "1/1 - 0s - loss: 0.6673 - binary_accuracy: 0.6000 - val_loss: 0.6609 - val_binary_accuracy: 0.6300\n",
      "Epoch 17/200\n",
      "1/1 - 0s - loss: 0.6663 - binary_accuracy: 0.6200 - val_loss: 0.6600 - val_binary_accuracy: 0.6300\n",
      "Epoch 18/200\n",
      "1/1 - 0s - loss: 0.6652 - binary_accuracy: 0.6350 - val_loss: 0.6590 - val_binary_accuracy: 0.6300\n",
      "Epoch 19/200\n",
      "1/1 - 0s - loss: 0.6642 - binary_accuracy: 0.6400 - val_loss: 0.6581 - val_binary_accuracy: 0.6300\n",
      "Epoch 20/200\n",
      "1/1 - 0s - loss: 0.6631 - binary_accuracy: 0.6500 - val_loss: 0.6571 - val_binary_accuracy: 0.6300\n",
      "Epoch 21/200\n",
      "1/1 - 0s - loss: 0.6621 - binary_accuracy: 0.6900 - val_loss: 0.6561 - val_binary_accuracy: 0.6300\n",
      "Epoch 22/200\n",
      "1/1 - 0s - loss: 0.6611 - binary_accuracy: 0.7000 - val_loss: 0.6551 - val_binary_accuracy: 0.6300\n",
      "Epoch 23/200\n",
      "1/1 - 0s - loss: 0.6601 - binary_accuracy: 0.7100 - val_loss: 0.6541 - val_binary_accuracy: 0.6300\n",
      "Epoch 24/200\n",
      "1/1 - 0s - loss: 0.6591 - binary_accuracy: 0.7300 - val_loss: 0.6531 - val_binary_accuracy: 0.6300\n",
      "Epoch 25/200\n",
      "1/1 - 0s - loss: 0.6581 - binary_accuracy: 0.7350 - val_loss: 0.6521 - val_binary_accuracy: 0.6300\n",
      "Epoch 26/200\n",
      "1/1 - 0s - loss: 0.6571 - binary_accuracy: 0.7350 - val_loss: 0.6512 - val_binary_accuracy: 0.6300\n",
      "Epoch 27/200\n",
      "1/1 - 0s - loss: 0.6561 - binary_accuracy: 0.7550 - val_loss: 0.6502 - val_binary_accuracy: 0.6300\n",
      "Epoch 28/200\n",
      "1/1 - 0s - loss: 0.6551 - binary_accuracy: 0.7600 - val_loss: 0.6492 - val_binary_accuracy: 0.6300\n",
      "Epoch 29/200\n",
      "1/1 - 0s - loss: 0.6541 - binary_accuracy: 0.7700 - val_loss: 0.6483 - val_binary_accuracy: 0.6300\n",
      "Epoch 30/200\n",
      "1/1 - 0s - loss: 0.6532 - binary_accuracy: 0.7750 - val_loss: 0.6473 - val_binary_accuracy: 0.6300\n",
      "Epoch 31/200\n",
      "1/1 - 0s - loss: 0.6522 - binary_accuracy: 0.7700 - val_loss: 0.6464 - val_binary_accuracy: 0.6300\n",
      "Epoch 32/200\n",
      "1/1 - 0s - loss: 0.6513 - binary_accuracy: 0.7750 - val_loss: 0.6455 - val_binary_accuracy: 0.6300\n",
      "Epoch 33/200\n",
      "1/1 - 0s - loss: 0.6503 - binary_accuracy: 0.7800 - val_loss: 0.6446 - val_binary_accuracy: 0.6300\n",
      "Epoch 34/200\n",
      "1/1 - 0s - loss: 0.6494 - binary_accuracy: 0.7850 - val_loss: 0.6436 - val_binary_accuracy: 0.6300\n",
      "Epoch 35/200\n",
      "1/1 - 0s - loss: 0.6485 - binary_accuracy: 0.7850 - val_loss: 0.6428 - val_binary_accuracy: 0.6300\n",
      "Epoch 36/200\n",
      "1/1 - 0s - loss: 0.6476 - binary_accuracy: 0.7850 - val_loss: 0.6419 - val_binary_accuracy: 0.6300\n",
      "Epoch 37/200\n",
      "1/1 - 0s - loss: 0.6467 - binary_accuracy: 0.7850 - val_loss: 0.6410 - val_binary_accuracy: 0.6300\n",
      "Epoch 38/200\n",
      "1/1 - 0s - loss: 0.6458 - binary_accuracy: 0.7950 - val_loss: 0.6402 - val_binary_accuracy: 0.6300\n",
      "Epoch 39/200\n",
      "1/1 - 0s - loss: 0.6449 - binary_accuracy: 0.7900 - val_loss: 0.6393 - val_binary_accuracy: 0.6300\n",
      "Epoch 40/200\n",
      "1/1 - 0s - loss: 0.6440 - binary_accuracy: 0.7850 - val_loss: 0.6385 - val_binary_accuracy: 0.6300\n",
      "Epoch 41/200\n",
      "1/1 - 0s - loss: 0.6431 - binary_accuracy: 0.7850 - val_loss: 0.6376 - val_binary_accuracy: 0.6300\n",
      "Epoch 42/200\n",
      "1/1 - 0s - loss: 0.6422 - binary_accuracy: 0.7750 - val_loss: 0.6368 - val_binary_accuracy: 0.6300\n",
      "Epoch 43/200\n",
      "1/1 - 0s - loss: 0.6412 - binary_accuracy: 0.7750 - val_loss: 0.6359 - val_binary_accuracy: 0.6300\n",
      "Epoch 44/200\n",
      "1/1 - 0s - loss: 0.6403 - binary_accuracy: 0.7800 - val_loss: 0.6351 - val_binary_accuracy: 0.6300\n",
      "Epoch 45/200\n",
      "1/1 - 0s - loss: 0.6394 - binary_accuracy: 0.7800 - val_loss: 0.6343 - val_binary_accuracy: 0.6300\n",
      "Epoch 46/200\n",
      "1/1 - 0s - loss: 0.6384 - binary_accuracy: 0.7850 - val_loss: 0.6334 - val_binary_accuracy: 0.6300\n",
      "Epoch 47/200\n",
      "1/1 - 0s - loss: 0.6375 - binary_accuracy: 0.7850 - val_loss: 0.6326 - val_binary_accuracy: 0.6300\n",
      "Epoch 48/200\n",
      "1/1 - 0s - loss: 0.6366 - binary_accuracy: 0.7800 - val_loss: 0.6318 - val_binary_accuracy: 0.6300\n",
      "Epoch 49/200\n",
      "1/1 - 0s - loss: 0.6357 - binary_accuracy: 0.7750 - val_loss: 0.6310 - val_binary_accuracy: 0.6300\n",
      "Epoch 50/200\n",
      "1/1 - 0s - loss: 0.6347 - binary_accuracy: 0.7750 - val_loss: 0.6302 - val_binary_accuracy: 0.6300\n",
      "Epoch 51/200\n",
      "1/1 - 0s - loss: 0.6338 - binary_accuracy: 0.7750 - val_loss: 0.6294 - val_binary_accuracy: 0.6300\n",
      "Epoch 52/200\n",
      "1/1 - 0s - loss: 0.6329 - binary_accuracy: 0.7750 - val_loss: 0.6286 - val_binary_accuracy: 0.6300\n",
      "Epoch 53/200\n",
      "1/1 - 0s - loss: 0.6319 - binary_accuracy: 0.7750 - val_loss: 0.6278 - val_binary_accuracy: 0.6300\n",
      "Epoch 54/200\n",
      "1/1 - 0s - loss: 0.6310 - binary_accuracy: 0.7650 - val_loss: 0.6270 - val_binary_accuracy: 0.6300\n",
      "Epoch 55/200\n",
      "1/1 - 0s - loss: 0.6300 - binary_accuracy: 0.7600 - val_loss: 0.6262 - val_binary_accuracy: 0.6300\n",
      "Epoch 56/200\n",
      "1/1 - 0s - loss: 0.6291 - binary_accuracy: 0.7600 - val_loss: 0.6254 - val_binary_accuracy: 0.6300\n",
      "Epoch 57/200\n",
      "1/1 - 0s - loss: 0.6281 - binary_accuracy: 0.7600 - val_loss: 0.6247 - val_binary_accuracy: 0.6300\n",
      "Epoch 58/200\n",
      "1/1 - 0s - loss: 0.6271 - binary_accuracy: 0.7450 - val_loss: 0.6239 - val_binary_accuracy: 0.6300\n",
      "Epoch 59/200\n",
      "1/1 - 0s - loss: 0.6262 - binary_accuracy: 0.7400 - val_loss: 0.6231 - val_binary_accuracy: 0.6300\n",
      "Epoch 60/200\n",
      "1/1 - 0s - loss: 0.6252 - binary_accuracy: 0.7400 - val_loss: 0.6224 - val_binary_accuracy: 0.6300\n",
      "Epoch 61/200\n",
      "1/1 - 0s - loss: 0.6242 - binary_accuracy: 0.7400 - val_loss: 0.6216 - val_binary_accuracy: 0.6300\n",
      "Epoch 62/200\n",
      "1/1 - 0s - loss: 0.6233 - binary_accuracy: 0.7400 - val_loss: 0.6209 - val_binary_accuracy: 0.6300\n",
      "Epoch 63/200\n",
      "1/1 - 0s - loss: 0.6223 - binary_accuracy: 0.7400 - val_loss: 0.6202 - val_binary_accuracy: 0.6300\n",
      "Epoch 64/200\n",
      "1/1 - 0s - loss: 0.6213 - binary_accuracy: 0.7400 - val_loss: 0.6195 - val_binary_accuracy: 0.6300\n",
      "Epoch 65/200\n",
      "1/1 - 0s - loss: 0.6203 - binary_accuracy: 0.7350 - val_loss: 0.6188 - val_binary_accuracy: 0.6300\n",
      "Epoch 66/200\n",
      "1/1 - 0s - loss: 0.6193 - binary_accuracy: 0.7300 - val_loss: 0.6180 - val_binary_accuracy: 0.6300\n",
      "Epoch 67/200\n",
      "1/1 - 0s - loss: 0.6183 - binary_accuracy: 0.7300 - val_loss: 0.6173 - val_binary_accuracy: 0.6300\n",
      "Epoch 68/200\n",
      "1/1 - 0s - loss: 0.6174 - binary_accuracy: 0.7300 - val_loss: 0.6166 - val_binary_accuracy: 0.6300\n",
      "Epoch 69/200\n",
      "1/1 - 0s - loss: 0.6164 - binary_accuracy: 0.7300 - val_loss: 0.6159 - val_binary_accuracy: 0.6300\n",
      "Epoch 70/200\n",
      "1/1 - 0s - loss: 0.6154 - binary_accuracy: 0.7300 - val_loss: 0.6152 - val_binary_accuracy: 0.6300\n",
      "Epoch 71/200\n",
      "1/1 - 0s - loss: 0.6144 - binary_accuracy: 0.7300 - val_loss: 0.6145 - val_binary_accuracy: 0.6300\n",
      "Epoch 72/200\n",
      "1/1 - 0s - loss: 0.6134 - binary_accuracy: 0.7300 - val_loss: 0.6139 - val_binary_accuracy: 0.6300\n",
      "Epoch 73/200\n",
      "1/1 - 0s - loss: 0.6124 - binary_accuracy: 0.7300 - val_loss: 0.6132 - val_binary_accuracy: 0.6300\n",
      "Epoch 74/200\n",
      "1/1 - 0s - loss: 0.6114 - binary_accuracy: 0.7300 - val_loss: 0.6125 - val_binary_accuracy: 0.6300\n"
     ]
    },
    {
     "name": "stdout",
     "output_type": "stream",
     "text": [
      "Epoch 75/200\n",
      "1/1 - 0s - loss: 0.6104 - binary_accuracy: 0.7250 - val_loss: 0.6118 - val_binary_accuracy: 0.6300\n",
      "Epoch 76/200\n",
      "1/1 - 0s - loss: 0.6094 - binary_accuracy: 0.7250 - val_loss: 0.6112 - val_binary_accuracy: 0.6300\n",
      "Epoch 77/200\n",
      "1/1 - 0s - loss: 0.6085 - binary_accuracy: 0.7250 - val_loss: 0.6105 - val_binary_accuracy: 0.6300\n",
      "Epoch 78/200\n",
      "1/1 - 0s - loss: 0.6075 - binary_accuracy: 0.7250 - val_loss: 0.6099 - val_binary_accuracy: 0.6300\n",
      "Epoch 79/200\n",
      "1/1 - 0s - loss: 0.6065 - binary_accuracy: 0.7250 - val_loss: 0.6092 - val_binary_accuracy: 0.6300\n",
      "Epoch 80/200\n",
      "1/1 - 0s - loss: 0.6056 - binary_accuracy: 0.7250 - val_loss: 0.6086 - val_binary_accuracy: 0.6300\n",
      "Epoch 81/200\n",
      "1/1 - 0s - loss: 0.6046 - binary_accuracy: 0.7150 - val_loss: 0.6079 - val_binary_accuracy: 0.6300\n",
      "Epoch 82/200\n",
      "1/1 - 0s - loss: 0.6036 - binary_accuracy: 0.7200 - val_loss: 0.6073 - val_binary_accuracy: 0.6300\n",
      "Epoch 83/200\n",
      "1/1 - 0s - loss: 0.6027 - binary_accuracy: 0.7200 - val_loss: 0.6067 - val_binary_accuracy: 0.6300\n",
      "Epoch 84/200\n",
      "1/1 - 0s - loss: 0.6017 - binary_accuracy: 0.7200 - val_loss: 0.6060 - val_binary_accuracy: 0.6300\n",
      "Epoch 85/200\n",
      "1/1 - 0s - loss: 0.6007 - binary_accuracy: 0.7200 - val_loss: 0.6054 - val_binary_accuracy: 0.6300\n",
      "Epoch 86/200\n",
      "1/1 - 0s - loss: 0.5998 - binary_accuracy: 0.7200 - val_loss: 0.6048 - val_binary_accuracy: 0.6300\n",
      "Epoch 87/200\n",
      "1/1 - 0s - loss: 0.5988 - binary_accuracy: 0.7200 - val_loss: 0.6042 - val_binary_accuracy: 0.6300\n",
      "Epoch 88/200\n",
      "1/1 - 0s - loss: 0.5979 - binary_accuracy: 0.7200 - val_loss: 0.6036 - val_binary_accuracy: 0.6300\n",
      "Epoch 89/200\n",
      "1/1 - 0s - loss: 0.5969 - binary_accuracy: 0.7200 - val_loss: 0.6030 - val_binary_accuracy: 0.6300\n",
      "Epoch 90/200\n",
      "1/1 - 0s - loss: 0.5960 - binary_accuracy: 0.7200 - val_loss: 0.6024 - val_binary_accuracy: 0.6300\n",
      "Epoch 91/200\n",
      "1/1 - 0s - loss: 0.5950 - binary_accuracy: 0.7200 - val_loss: 0.6017 - val_binary_accuracy: 0.6300\n",
      "Epoch 92/200\n",
      "1/1 - 0s - loss: 0.5940 - binary_accuracy: 0.7200 - val_loss: 0.6011 - val_binary_accuracy: 0.6300\n",
      "Epoch 93/200\n",
      "1/1 - 0s - loss: 0.5931 - binary_accuracy: 0.7200 - val_loss: 0.6005 - val_binary_accuracy: 0.6300\n",
      "Epoch 94/200\n",
      "1/1 - 0s - loss: 0.5921 - binary_accuracy: 0.7200 - val_loss: 0.6000 - val_binary_accuracy: 0.6300\n",
      "Epoch 95/200\n",
      "1/1 - 0s - loss: 0.5912 - binary_accuracy: 0.7200 - val_loss: 0.5994 - val_binary_accuracy: 0.6300\n",
      "Epoch 96/200\n",
      "1/1 - 0s - loss: 0.5902 - binary_accuracy: 0.7150 - val_loss: 0.5988 - val_binary_accuracy: 0.6300\n",
      "Epoch 97/200\n",
      "1/1 - 0s - loss: 0.5892 - binary_accuracy: 0.7150 - val_loss: 0.5982 - val_binary_accuracy: 0.6300\n",
      "Epoch 98/200\n",
      "1/1 - 0s - loss: 0.5883 - binary_accuracy: 0.7150 - val_loss: 0.5976 - val_binary_accuracy: 0.6300\n",
      "Epoch 99/200\n",
      "1/1 - 0s - loss: 0.5873 - binary_accuracy: 0.7150 - val_loss: 0.5970 - val_binary_accuracy: 0.6300\n",
      "Epoch 100/200\n",
      "1/1 - 0s - loss: 0.5863 - binary_accuracy: 0.7150 - val_loss: 0.5964 - val_binary_accuracy: 0.6300\n",
      "Epoch 101/200\n",
      "1/1 - 0s - loss: 0.5854 - binary_accuracy: 0.7150 - val_loss: 0.5958 - val_binary_accuracy: 0.6300\n",
      "Epoch 102/200\n",
      "1/1 - 0s - loss: 0.5844 - binary_accuracy: 0.7150 - val_loss: 0.5952 - val_binary_accuracy: 0.6300\n",
      "Epoch 103/200\n",
      "1/1 - 0s - loss: 0.5834 - binary_accuracy: 0.7150 - val_loss: 0.5946 - val_binary_accuracy: 0.6300\n",
      "Epoch 104/200\n",
      "1/1 - 0s - loss: 0.5825 - binary_accuracy: 0.7150 - val_loss: 0.5940 - val_binary_accuracy: 0.6300\n",
      "Epoch 105/200\n",
      "1/1 - 0s - loss: 0.5815 - binary_accuracy: 0.7150 - val_loss: 0.5934 - val_binary_accuracy: 0.6300\n",
      "Epoch 106/200\n",
      "1/1 - 0s - loss: 0.5805 - binary_accuracy: 0.7150 - val_loss: 0.5928 - val_binary_accuracy: 0.6300\n",
      "Epoch 107/200\n",
      "1/1 - 0s - loss: 0.5795 - binary_accuracy: 0.7200 - val_loss: 0.5922 - val_binary_accuracy: 0.6300\n",
      "Epoch 108/200\n",
      "1/1 - 0s - loss: 0.5786 - binary_accuracy: 0.7200 - val_loss: 0.5916 - val_binary_accuracy: 0.6300\n",
      "Epoch 109/200\n",
      "1/1 - 0s - loss: 0.5776 - binary_accuracy: 0.7200 - val_loss: 0.5910 - val_binary_accuracy: 0.6300\n",
      "Epoch 110/200\n",
      "1/1 - 0s - loss: 0.5766 - binary_accuracy: 0.7200 - val_loss: 0.5904 - val_binary_accuracy: 0.6300\n",
      "Epoch 111/200\n",
      "1/1 - 0s - loss: 0.5757 - binary_accuracy: 0.7200 - val_loss: 0.5898 - val_binary_accuracy: 0.6300\n",
      "Epoch 112/200\n",
      "1/1 - 0s - loss: 0.5747 - binary_accuracy: 0.7200 - val_loss: 0.5891 - val_binary_accuracy: 0.6300\n",
      "Epoch 113/200\n",
      "1/1 - 0s - loss: 0.5737 - binary_accuracy: 0.7250 - val_loss: 0.5885 - val_binary_accuracy: 0.6400\n",
      "Epoch 114/200\n",
      "1/1 - 0s - loss: 0.5727 - binary_accuracy: 0.7250 - val_loss: 0.5879 - val_binary_accuracy: 0.6400\n",
      "Epoch 115/200\n",
      "1/1 - 0s - loss: 0.5718 - binary_accuracy: 0.7250 - val_loss: 0.5873 - val_binary_accuracy: 0.6400\n",
      "Epoch 116/200\n",
      "1/1 - 0s - loss: 0.5708 - binary_accuracy: 0.7250 - val_loss: 0.5866 - val_binary_accuracy: 0.6400\n",
      "Epoch 117/200\n",
      "1/1 - 0s - loss: 0.5698 - binary_accuracy: 0.7250 - val_loss: 0.5860 - val_binary_accuracy: 0.6400\n",
      "Epoch 118/200\n",
      "1/1 - 0s - loss: 0.5688 - binary_accuracy: 0.7300 - val_loss: 0.5854 - val_binary_accuracy: 0.6400\n",
      "Epoch 119/200\n",
      "1/1 - 0s - loss: 0.5678 - binary_accuracy: 0.7300 - val_loss: 0.5847 - val_binary_accuracy: 0.6400\n",
      "Epoch 120/200\n",
      "1/1 - 0s - loss: 0.5668 - binary_accuracy: 0.7300 - val_loss: 0.5841 - val_binary_accuracy: 0.6400\n",
      "Epoch 121/200\n",
      "1/1 - 0s - loss: 0.5658 - binary_accuracy: 0.7300 - val_loss: 0.5834 - val_binary_accuracy: 0.6400\n",
      "Epoch 122/200\n",
      "1/1 - 0s - loss: 0.5649 - binary_accuracy: 0.7300 - val_loss: 0.5828 - val_binary_accuracy: 0.6400\n",
      "Epoch 123/200\n",
      "1/1 - 0s - loss: 0.5639 - binary_accuracy: 0.7300 - val_loss: 0.5821 - val_binary_accuracy: 0.6400\n",
      "Epoch 124/200\n",
      "1/1 - 0s - loss: 0.5629 - binary_accuracy: 0.7300 - val_loss: 0.5815 - val_binary_accuracy: 0.6400\n",
      "Epoch 125/200\n",
      "1/1 - 0s - loss: 0.5619 - binary_accuracy: 0.7350 - val_loss: 0.5808 - val_binary_accuracy: 0.6400\n",
      "Epoch 126/200\n",
      "1/1 - 0s - loss: 0.5609 - binary_accuracy: 0.7350 - val_loss: 0.5801 - val_binary_accuracy: 0.6400\n",
      "Epoch 127/200\n",
      "1/1 - 0s - loss: 0.5599 - binary_accuracy: 0.7350 - val_loss: 0.5794 - val_binary_accuracy: 0.6400\n",
      "Epoch 128/200\n",
      "1/1 - 0s - loss: 0.5589 - binary_accuracy: 0.7350 - val_loss: 0.5788 - val_binary_accuracy: 0.6400\n",
      "Epoch 129/200\n",
      "1/1 - 0s - loss: 0.5579 - binary_accuracy: 0.7350 - val_loss: 0.5781 - val_binary_accuracy: 0.6400\n",
      "Epoch 130/200\n",
      "1/1 - 0s - loss: 0.5569 - binary_accuracy: 0.7350 - val_loss: 0.5774 - val_binary_accuracy: 0.6400\n",
      "Epoch 131/200\n",
      "1/1 - 0s - loss: 0.5559 - binary_accuracy: 0.7400 - val_loss: 0.5767 - val_binary_accuracy: 0.6400\n",
      "Epoch 132/200\n",
      "1/1 - 0s - loss: 0.5549 - binary_accuracy: 0.7400 - val_loss: 0.5760 - val_binary_accuracy: 0.6500\n",
      "Epoch 133/200\n",
      "1/1 - 0s - loss: 0.5539 - binary_accuracy: 0.7450 - val_loss: 0.5753 - val_binary_accuracy: 0.6500\n",
      "Epoch 134/200\n",
      "1/1 - 0s - loss: 0.5529 - binary_accuracy: 0.7450 - val_loss: 0.5746 - val_binary_accuracy: 0.6500\n",
      "Epoch 135/200\n",
      "1/1 - 0s - loss: 0.5519 - binary_accuracy: 0.7500 - val_loss: 0.5739 - val_binary_accuracy: 0.6500\n",
      "Epoch 136/200\n",
      "1/1 - 0s - loss: 0.5509 - binary_accuracy: 0.7500 - val_loss: 0.5732 - val_binary_accuracy: 0.6500\n",
      "Epoch 137/200\n",
      "1/1 - 0s - loss: 0.5499 - binary_accuracy: 0.7500 - val_loss: 0.5725 - val_binary_accuracy: 0.6500\n",
      "Epoch 138/200\n",
      "1/1 - 0s - loss: 0.5489 - binary_accuracy: 0.7500 - val_loss: 0.5717 - val_binary_accuracy: 0.6500\n",
      "Epoch 139/200\n",
      "1/1 - 0s - loss: 0.5479 - binary_accuracy: 0.7500 - val_loss: 0.5710 - val_binary_accuracy: 0.6500\n",
      "Epoch 140/200\n",
      "1/1 - 0s - loss: 0.5469 - binary_accuracy: 0.7500 - val_loss: 0.5703 - val_binary_accuracy: 0.6500\n",
      "Epoch 141/200\n",
      "1/1 - 0s - loss: 0.5458 - binary_accuracy: 0.7550 - val_loss: 0.5695 - val_binary_accuracy: 0.6500\n",
      "Epoch 142/200\n",
      "1/1 - 0s - loss: 0.5448 - binary_accuracy: 0.7550 - val_loss: 0.5688 - val_binary_accuracy: 0.6500\n",
      "Epoch 143/200\n",
      "1/1 - 0s - loss: 0.5438 - binary_accuracy: 0.7550 - val_loss: 0.5681 - val_binary_accuracy: 0.6500\n",
      "Epoch 144/200\n",
      "1/1 - 0s - loss: 0.5428 - binary_accuracy: 0.7550 - val_loss: 0.5673 - val_binary_accuracy: 0.6500\n",
      "Epoch 145/200\n",
      "1/1 - 0s - loss: 0.5418 - binary_accuracy: 0.7550 - val_loss: 0.5665 - val_binary_accuracy: 0.6600\n",
      "Epoch 146/200\n",
      "1/1 - 0s - loss: 0.5408 - binary_accuracy: 0.7550 - val_loss: 0.5658 - val_binary_accuracy: 0.6600\n",
      "Epoch 147/200\n",
      "1/1 - 0s - loss: 0.5398 - binary_accuracy: 0.7550 - val_loss: 0.5650 - val_binary_accuracy: 0.6600\n"
     ]
    },
    {
     "name": "stdout",
     "output_type": "stream",
     "text": [
      "Epoch 148/200\n",
      "1/1 - 0s - loss: 0.5388 - binary_accuracy: 0.7550 - val_loss: 0.5642 - val_binary_accuracy: 0.6600\n",
      "Epoch 149/200\n",
      "1/1 - 0s - loss: 0.5377 - binary_accuracy: 0.7550 - val_loss: 0.5635 - val_binary_accuracy: 0.6600\n",
      "Epoch 150/200\n",
      "1/1 - 0s - loss: 0.5367 - binary_accuracy: 0.7550 - val_loss: 0.5627 - val_binary_accuracy: 0.6600\n",
      "Epoch 151/200\n",
      "1/1 - 0s - loss: 0.5357 - binary_accuracy: 0.7550 - val_loss: 0.5619 - val_binary_accuracy: 0.6700\n",
      "Epoch 152/200\n",
      "1/1 - 0s - loss: 0.5347 - binary_accuracy: 0.7600 - val_loss: 0.5611 - val_binary_accuracy: 0.6700\n",
      "Epoch 153/200\n",
      "1/1 - 0s - loss: 0.5337 - binary_accuracy: 0.7600 - val_loss: 0.5603 - val_binary_accuracy: 0.6700\n",
      "Epoch 154/200\n",
      "1/1 - 0s - loss: 0.5327 - binary_accuracy: 0.7600 - val_loss: 0.5596 - val_binary_accuracy: 0.6700\n",
      "Epoch 155/200\n",
      "1/1 - 0s - loss: 0.5317 - binary_accuracy: 0.7600 - val_loss: 0.5588 - val_binary_accuracy: 0.6700\n",
      "Epoch 156/200\n",
      "1/1 - 0s - loss: 0.5306 - binary_accuracy: 0.7650 - val_loss: 0.5580 - val_binary_accuracy: 0.6700\n",
      "Epoch 157/200\n",
      "1/1 - 0s - loss: 0.5296 - binary_accuracy: 0.7700 - val_loss: 0.5572 - val_binary_accuracy: 0.6700\n",
      "Epoch 158/200\n",
      "1/1 - 0s - loss: 0.5286 - binary_accuracy: 0.7700 - val_loss: 0.5564 - val_binary_accuracy: 0.6700\n",
      "Epoch 159/200\n",
      "1/1 - 0s - loss: 0.5276 - binary_accuracy: 0.7700 - val_loss: 0.5556 - val_binary_accuracy: 0.6700\n",
      "Epoch 160/200\n",
      "1/1 - 0s - loss: 0.5266 - binary_accuracy: 0.7700 - val_loss: 0.5548 - val_binary_accuracy: 0.6700\n",
      "Epoch 161/200\n",
      "1/1 - 0s - loss: 0.5256 - binary_accuracy: 0.7650 - val_loss: 0.5540 - val_binary_accuracy: 0.6700\n",
      "Epoch 162/200\n",
      "1/1 - 0s - loss: 0.5245 - binary_accuracy: 0.7650 - val_loss: 0.5532 - val_binary_accuracy: 0.6700\n",
      "Epoch 163/200\n",
      "1/1 - 0s - loss: 0.5235 - binary_accuracy: 0.7650 - val_loss: 0.5524 - val_binary_accuracy: 0.6700\n",
      "Epoch 164/200\n",
      "1/1 - 0s - loss: 0.5225 - binary_accuracy: 0.7650 - val_loss: 0.5516 - val_binary_accuracy: 0.6700\n",
      "Epoch 165/200\n",
      "1/1 - 0s - loss: 0.5215 - binary_accuracy: 0.7700 - val_loss: 0.5508 - val_binary_accuracy: 0.6700\n",
      "Epoch 166/200\n",
      "1/1 - 0s - loss: 0.5205 - binary_accuracy: 0.7750 - val_loss: 0.5500 - val_binary_accuracy: 0.6700\n",
      "Epoch 167/200\n",
      "1/1 - 0s - loss: 0.5194 - binary_accuracy: 0.7750 - val_loss: 0.5492 - val_binary_accuracy: 0.6700\n",
      "Epoch 168/200\n",
      "1/1 - 0s - loss: 0.5184 - binary_accuracy: 0.7750 - val_loss: 0.5484 - val_binary_accuracy: 0.6700\n",
      "Epoch 169/200\n",
      "1/1 - 0s - loss: 0.5174 - binary_accuracy: 0.7750 - val_loss: 0.5475 - val_binary_accuracy: 0.6800\n",
      "Epoch 170/200\n",
      "1/1 - 0s - loss: 0.5164 - binary_accuracy: 0.7750 - val_loss: 0.5467 - val_binary_accuracy: 0.6800\n",
      "Epoch 171/200\n",
      "1/1 - 0s - loss: 0.5154 - binary_accuracy: 0.7750 - val_loss: 0.5459 - val_binary_accuracy: 0.6800\n",
      "Epoch 172/200\n",
      "1/1 - 0s - loss: 0.5144 - binary_accuracy: 0.7750 - val_loss: 0.5451 - val_binary_accuracy: 0.6800\n",
      "Epoch 173/200\n",
      "1/1 - 0s - loss: 0.5133 - binary_accuracy: 0.7750 - val_loss: 0.5443 - val_binary_accuracy: 0.6800\n",
      "Epoch 174/200\n",
      "1/1 - 0s - loss: 0.5123 - binary_accuracy: 0.7750 - val_loss: 0.5435 - val_binary_accuracy: 0.6800\n",
      "Epoch 175/200\n",
      "1/1 - 0s - loss: 0.5113 - binary_accuracy: 0.7750 - val_loss: 0.5427 - val_binary_accuracy: 0.6800\n",
      "Epoch 176/200\n",
      "1/1 - 0s - loss: 0.5103 - binary_accuracy: 0.7750 - val_loss: 0.5419 - val_binary_accuracy: 0.6800\n",
      "Epoch 177/200\n",
      "1/1 - 0s - loss: 0.5093 - binary_accuracy: 0.7700 - val_loss: 0.5410 - val_binary_accuracy: 0.6800\n",
      "Epoch 178/200\n",
      "1/1 - 0s - loss: 0.5083 - binary_accuracy: 0.7750 - val_loss: 0.5402 - val_binary_accuracy: 0.6900\n",
      "Epoch 179/200\n",
      "1/1 - 0s - loss: 0.5073 - binary_accuracy: 0.7800 - val_loss: 0.5394 - val_binary_accuracy: 0.6900\n",
      "Epoch 180/200\n",
      "1/1 - 0s - loss: 0.5063 - binary_accuracy: 0.7800 - val_loss: 0.5386 - val_binary_accuracy: 0.6900\n",
      "Epoch 181/200\n",
      "1/1 - 0s - loss: 0.5052 - binary_accuracy: 0.7800 - val_loss: 0.5378 - val_binary_accuracy: 0.6900\n",
      "Epoch 182/200\n",
      "1/1 - 0s - loss: 0.5042 - binary_accuracy: 0.7800 - val_loss: 0.5369 - val_binary_accuracy: 0.6900\n",
      "Epoch 183/200\n",
      "1/1 - 0s - loss: 0.5032 - binary_accuracy: 0.7800 - val_loss: 0.5361 - val_binary_accuracy: 0.6900\n",
      "Epoch 184/200\n",
      "1/1 - 0s - loss: 0.5022 - binary_accuracy: 0.7800 - val_loss: 0.5353 - val_binary_accuracy: 0.6900\n",
      "Epoch 185/200\n",
      "1/1 - 0s - loss: 0.5012 - binary_accuracy: 0.7800 - val_loss: 0.5345 - val_binary_accuracy: 0.6900\n",
      "Epoch 186/200\n",
      "1/1 - 0s - loss: 0.5002 - binary_accuracy: 0.7800 - val_loss: 0.5336 - val_binary_accuracy: 0.6900\n",
      "Epoch 187/200\n",
      "1/1 - 0s - loss: 0.4992 - binary_accuracy: 0.7850 - val_loss: 0.5328 - val_binary_accuracy: 0.6900\n",
      "Epoch 188/200\n",
      "1/1 - 0s - loss: 0.4982 - binary_accuracy: 0.7850 - val_loss: 0.5320 - val_binary_accuracy: 0.7000\n",
      "Epoch 189/200\n",
      "1/1 - 0s - loss: 0.4972 - binary_accuracy: 0.7850 - val_loss: 0.5312 - val_binary_accuracy: 0.7000\n",
      "Epoch 190/200\n",
      "1/1 - 0s - loss: 0.4962 - binary_accuracy: 0.7850 - val_loss: 0.5304 - val_binary_accuracy: 0.7000\n",
      "Epoch 191/200\n",
      "1/1 - 0s - loss: 0.4952 - binary_accuracy: 0.7850 - val_loss: 0.5295 - val_binary_accuracy: 0.7000\n",
      "Epoch 192/200\n",
      "1/1 - 0s - loss: 0.4942 - binary_accuracy: 0.7900 - val_loss: 0.5287 - val_binary_accuracy: 0.7000\n",
      "Epoch 193/200\n",
      "1/1 - 0s - loss: 0.4932 - binary_accuracy: 0.7900 - val_loss: 0.5279 - val_binary_accuracy: 0.7000\n",
      "Epoch 194/200\n",
      "1/1 - 0s - loss: 0.4922 - binary_accuracy: 0.7900 - val_loss: 0.5271 - val_binary_accuracy: 0.7000\n",
      "Epoch 195/200\n",
      "1/1 - 0s - loss: 0.4912 - binary_accuracy: 0.7900 - val_loss: 0.5263 - val_binary_accuracy: 0.7000\n",
      "Epoch 196/200\n",
      "1/1 - 0s - loss: 0.4902 - binary_accuracy: 0.7900 - val_loss: 0.5255 - val_binary_accuracy: 0.7000\n",
      "Epoch 197/200\n",
      "1/1 - 0s - loss: 0.4892 - binary_accuracy: 0.7900 - val_loss: 0.5247 - val_binary_accuracy: 0.7000\n",
      "Epoch 198/200\n",
      "1/1 - 0s - loss: 0.4882 - binary_accuracy: 0.7900 - val_loss: 0.5239 - val_binary_accuracy: 0.7000\n",
      "Epoch 199/200\n",
      "1/1 - 0s - loss: 0.4872 - binary_accuracy: 0.7900 - val_loss: 0.5231 - val_binary_accuracy: 0.7100\n",
      "Epoch 200/200\n",
      "1/1 - 0s - loss: 0.4862 - binary_accuracy: 0.7900 - val_loss: 0.5223 - val_binary_accuracy: 0.7100\n"
     ]
    }
   ],
   "source": [
    "start_MLP = time.time()\n",
    "history_MLP=MLP.fit(X_train, y_train, batch_size=1, epochs=100, verbose=0, validation_split=0.33, shuffle=False)\n",
    "end_MLP = time.time()\n",
    "MLP_runtime=end_MLP - start_MLP\n",
    "\n",
    "print('Runtime:',MLP_runtime)"
   ]
  },
  {
   "cell_type": "code",
   "execution_count": null,
   "metadata": {},
   "outputs": [],
   "source": [
    "runtimes.append(MLP_runtime)"
   ]
  },
  {
   "cell_type": "code",
   "execution_count": 77,
   "metadata": {},
   "outputs": [
    {
     "name": "stdout",
     "output_type": "stream",
     "text": [
      "Model: \"sequential_2\"\n",
      "_________________________________________________________________\n",
      "Layer (type)                 Output Shape              Param #   \n",
      "=================================================================\n",
      "dense_6 (Dense)              (None, 64)                384       \n",
      "_________________________________________________________________\n",
      "dense_7 (Dense)              (None, 1)                 65        \n",
      "=================================================================\n",
      "Total params: 449\n",
      "Trainable params: 449\n",
      "Non-trainable params: 0\n",
      "_________________________________________________________________\n",
      "None\n"
     ]
    }
   ],
   "source": [
    "print(MLP.summary())"
   ]
  },
  {
   "cell_type": "markdown",
   "metadata": {},
   "source": [
    "#### <font color= darkblue> Visualización de precisión y pérdida en los conjuntos de entrenamiento y validación"
   ]
  },
  {
   "cell_type": "code",
   "execution_count": null,
   "metadata": {},
   "outputs": [],
   "source": [
    "# MLP\n",
    "fig, axs = plt.subplots(1,2)\n",
    "fig.suptitle('MLP model training performance', fontsize=20)\n",
    "axs[0].plot(history_MLP.history['binary_accuracy'])\n",
    "axs[0].plot(history_MLP.history['val_binary_accuracy'])\n",
    "axs[0].set_title('Model accuracy', fontsize=15)\n",
    "axs[0].set_ylabel('binary_accuracy')\n",
    "axs[0].set_xlabel('epoch')\n",
    "axs[0].legend(['train', 'validation'], loc='upper left')\n",
    "axs[1].plot(history_MLP.history['loss'])\n",
    "axs[1].plot(history_MLP.history['val_loss'])\n",
    "axs[1].set_title('Model loss', fontsize=15)\n",
    "axs[1].set_ylabel('loss')\n",
    "axs[1].set_xlabel('epoch')\n",
    "axs[1].legend(['train', 'validation'], loc='upper left')\n",
    "plt.show()"
   ]
  },
  {
   "cell_type": "markdown",
   "metadata": {},
   "source": [
    "### <font color= darkblue> LSTM"
   ]
  },
  {
   "cell_type": "markdown",
   "metadata": {},
   "source": [
    "The Long Short-Term Memory (LSTM) network is a recurrent neural network that is trained using Backpropagation Through Time and that overcomes the vanishing / exploding gradient problem.\n",
    "\n",
    "Its architecture is once again ideal networks to process sequential data such as time series.\n",
    "\n",
    "Instead of hidden layers, LSTM networks have memory blocks. Such a block has components that make it smarter than the classical hidden layers and provide it with a notion of short and long term memory. These memory blocks are made up of logic gates that manage the state of the block and its output. A block operates on an input sequence and each gate uses sigmoid activation functions to control whether they activate or not, causing state changes and adding new information.\n",
    "\n",
    "The blocks are made up of three types of logic gates:\n",
    "\n",
    "\\begin{itemize}\n",
    "\\item Forget Gate: it decides what information to remove from the block;\n",
    "\\item Input Gate: it decides which input weight values to update in memory state;\n",
    "\\item Output Gate: it decides what to return to the output based on the input and the memory state of the block.\n",
    "\\end{itemize}\n",
    "\n",
    "Each memory unit is like a little state machine where the gates have weights that are learned during training."
   ]
  },
  {
   "cell_type": "code",
   "execution_count": null,
   "metadata": {},
   "outputs": [],
   "source": [
    "from IPython.display import Image\n",
    "Image(\"img/LSTM.png\")"
   ]
  },
  {
   "cell_type": "markdown",
   "metadata": {},
   "source": [
    "#### <font color= darkblue> Define Model\n",
    "    \n",
    "First, we define the LSTM network by initializing the Keras Sequential model. Then we will add two LSTM layers and adjust the dropout to improve the performance of the model. Finally, we will add two dense layers for the output.\n",
    "\n",
    "Note that other hyperparameters to modify to improve performance are the number of epochs and the batch size. We have noticed that a batch \\_size = len (X\\_train\\_LSTM) and epochs = 200 return a good model.\n",
    "\n",
    "Next, we will compile the defined model."
   ]
  },
  {
   "cell_type": "markdown",
   "metadata": {},
   "source": [
    "### <font color= darkblue>Building an LSTM Model </font>\n",
    "\n",
    "As in the previous model, we define a function to build the model based on the LSTM network. In this case we add a dropout percentage (drop \\ _pct) which is a regularization method that adds information to solve badly conditioned problems or to reduce overfitting."
   ]
  },
  {
   "cell_type": "code",
   "execution_count": null,
   "metadata": {},
   "outputs": [],
   "source": [
    "def model_LSTM_(optimizer,activation,loss,metrics):\n",
    "  model = Sequential()\n",
    "\n",
    "  model.add(LSTM(units=256, input_shape = (X_train_LSTM.shape[1],X_train_LSTM.shape[2]), return_sequences=True)) \n",
    "  model.add(Dropout(0.4, seed=seed_value))\n",
    "\n",
    "  model.add(LSTM(units=256, return_sequences=True))\n",
    "  model.add(Dropout(0.4, seed=seed_value))\n",
    "\n",
    "  model.add(LSTM(units=64, return_sequences=False))\n",
    "  model.add(Dropout(0.4, seed=seed_value))\n",
    "\n",
    "  model.add(Dense(64,  activation = activation))\n",
    "  \n",
    "  model.add(Dense(1, activation='sigmoid'))\n",
    "  \n",
    "  model.compile(optimizer=optimizer, loss=loss, metrics=metrics)\n",
    "\n",
    "  return model\n",
    "\n",
    "# Define the Model\n",
    "model_LSTM=model_LSTM_(optimizer='adam',activation='relu',loss='binary_crossentropy',metrics=['binary_accuracy'])"
   ]
  },
  {
   "cell_type": "code",
   "execution_count": 79,
   "metadata": {},
   "outputs": [
    {
     "name": "stdout",
     "output_type": "stream",
     "text": [
      "Epoch 1/200\n",
      "1/1 - 6s - loss: 0.6932 - binary_accuracy: 0.4550 - val_loss: 0.6927 - val_binary_accuracy: 0.6300\n",
      "Epoch 2/200\n",
      "1/1 - 0s - loss: 0.6930 - binary_accuracy: 0.5100 - val_loss: 0.6921 - val_binary_accuracy: 0.6300\n",
      "Epoch 3/200\n",
      "1/1 - 0s - loss: 0.6929 - binary_accuracy: 0.5200 - val_loss: 0.6915 - val_binary_accuracy: 0.6300\n",
      "Epoch 4/200\n",
      "1/1 - 0s - loss: 0.6928 - binary_accuracy: 0.5200 - val_loss: 0.6908 - val_binary_accuracy: 0.6300\n",
      "Epoch 5/200\n",
      "1/1 - 0s - loss: 0.6927 - binary_accuracy: 0.5200 - val_loss: 0.6902 - val_binary_accuracy: 0.6300\n",
      "Epoch 6/200\n",
      "1/1 - 0s - loss: 0.6924 - binary_accuracy: 0.5200 - val_loss: 0.6895 - val_binary_accuracy: 0.6300\n",
      "Epoch 7/200\n",
      "1/1 - 0s - loss: 0.6924 - binary_accuracy: 0.5200 - val_loss: 0.6888 - val_binary_accuracy: 0.6300\n",
      "Epoch 8/200\n",
      "1/1 - 0s - loss: 0.6922 - binary_accuracy: 0.5200 - val_loss: 0.6880 - val_binary_accuracy: 0.6300\n",
      "Epoch 9/200\n",
      "1/1 - 0s - loss: 0.6921 - binary_accuracy: 0.5200 - val_loss: 0.6873 - val_binary_accuracy: 0.6300\n",
      "Epoch 10/200\n",
      "1/1 - 0s - loss: 0.6919 - binary_accuracy: 0.5200 - val_loss: 0.6865 - val_binary_accuracy: 0.6300\n",
      "Epoch 11/200\n",
      "1/1 - 0s - loss: 0.6914 - binary_accuracy: 0.5200 - val_loss: 0.6857 - val_binary_accuracy: 0.6300\n",
      "Epoch 12/200\n",
      "1/1 - 0s - loss: 0.6915 - binary_accuracy: 0.5200 - val_loss: 0.6849 - val_binary_accuracy: 0.6300\n",
      "Epoch 13/200\n",
      "1/1 - 0s - loss: 0.6911 - binary_accuracy: 0.5200 - val_loss: 0.6841 - val_binary_accuracy: 0.6300\n",
      "Epoch 14/200\n",
      "1/1 - 0s - loss: 0.6908 - binary_accuracy: 0.5200 - val_loss: 0.6833 - val_binary_accuracy: 0.6300\n",
      "Epoch 15/200\n",
      "1/1 - 0s - loss: 0.6906 - binary_accuracy: 0.5200 - val_loss: 0.6824 - val_binary_accuracy: 0.6300\n",
      "Epoch 16/200\n",
      "1/1 - 0s - loss: 0.6903 - binary_accuracy: 0.5200 - val_loss: 0.6815 - val_binary_accuracy: 0.6300\n",
      "Epoch 17/200\n",
      "1/1 - 0s - loss: 0.6898 - binary_accuracy: 0.5200 - val_loss: 0.6805 - val_binary_accuracy: 0.6300\n",
      "Epoch 18/200\n",
      "1/1 - 0s - loss: 0.6889 - binary_accuracy: 0.5200 - val_loss: 0.6794 - val_binary_accuracy: 0.6300\n",
      "Epoch 19/200\n",
      "1/1 - 0s - loss: 0.6887 - binary_accuracy: 0.5200 - val_loss: 0.6782 - val_binary_accuracy: 0.6300\n",
      "Epoch 20/200\n",
      "1/1 - 0s - loss: 0.6875 - binary_accuracy: 0.5200 - val_loss: 0.6770 - val_binary_accuracy: 0.6300\n",
      "Epoch 21/200\n",
      "1/1 - 0s - loss: 0.6872 - binary_accuracy: 0.5200 - val_loss: 0.6757 - val_binary_accuracy: 0.6300\n",
      "Epoch 22/200\n",
      "1/1 - 0s - loss: 0.6863 - binary_accuracy: 0.5200 - val_loss: 0.6743 - val_binary_accuracy: 0.6300\n",
      "Epoch 23/200\n",
      "1/1 - 0s - loss: 0.6848 - binary_accuracy: 0.5200 - val_loss: 0.6729 - val_binary_accuracy: 0.6300\n",
      "Epoch 24/200\n",
      "1/1 - 0s - loss: 0.6834 - binary_accuracy: 0.5200 - val_loss: 0.6713 - val_binary_accuracy: 0.6300\n",
      "Epoch 25/200\n",
      "1/1 - 0s - loss: 0.6824 - binary_accuracy: 0.5200 - val_loss: 0.6696 - val_binary_accuracy: 0.6300\n",
      "Epoch 26/200\n",
      "1/1 - 0s - loss: 0.6814 - binary_accuracy: 0.5300 - val_loss: 0.6678 - val_binary_accuracy: 0.6300\n",
      "Epoch 27/200\n",
      "1/1 - 0s - loss: 0.6798 - binary_accuracy: 0.5300 - val_loss: 0.6657 - val_binary_accuracy: 0.6300\n",
      "Epoch 28/200\n",
      "1/1 - 0s - loss: 0.6766 - binary_accuracy: 0.5400 - val_loss: 0.6633 - val_binary_accuracy: 0.6300\n",
      "Epoch 29/200\n",
      "1/1 - 0s - loss: 0.6751 - binary_accuracy: 0.5850 - val_loss: 0.6606 - val_binary_accuracy: 0.6300\n",
      "Epoch 30/200\n",
      "1/1 - 0s - loss: 0.6709 - binary_accuracy: 0.6050 - val_loss: 0.6574 - val_binary_accuracy: 0.6300\n",
      "Epoch 31/200\n",
      "1/1 - 0s - loss: 0.6702 - binary_accuracy: 0.6500 - val_loss: 0.6538 - val_binary_accuracy: 0.6300\n",
      "Epoch 32/200\n",
      "1/1 - 0s - loss: 0.6644 - binary_accuracy: 0.7100 - val_loss: 0.6498 - val_binary_accuracy: 0.6300\n",
      "Epoch 33/200\n",
      "1/1 - 0s - loss: 0.6612 - binary_accuracy: 0.6950 - val_loss: 0.6454 - val_binary_accuracy: 0.6300\n",
      "Epoch 34/200\n",
      "1/1 - 0s - loss: 0.6566 - binary_accuracy: 0.7050 - val_loss: 0.6406 - val_binary_accuracy: 0.6300\n",
      "Epoch 35/200\n",
      "1/1 - 0s - loss: 0.6519 - binary_accuracy: 0.7100 - val_loss: 0.6356 - val_binary_accuracy: 0.6300\n",
      "Epoch 36/200\n",
      "1/1 - 0s - loss: 0.6458 - binary_accuracy: 0.7100 - val_loss: 0.6305 - val_binary_accuracy: 0.6300\n",
      "Epoch 37/200\n",
      "1/1 - 0s - loss: 0.6392 - binary_accuracy: 0.7350 - val_loss: 0.6255 - val_binary_accuracy: 0.6300\n",
      "Epoch 38/200\n",
      "1/1 - 0s - loss: 0.6355 - binary_accuracy: 0.7150 - val_loss: 0.6206 - val_binary_accuracy: 0.6300\n",
      "Epoch 39/200\n",
      "1/1 - 0s - loss: 0.6239 - binary_accuracy: 0.7450 - val_loss: 0.6158 - val_binary_accuracy: 0.6300\n",
      "Epoch 40/200\n",
      "1/1 - 0s - loss: 0.6206 - binary_accuracy: 0.7450 - val_loss: 0.6113 - val_binary_accuracy: 0.6300\n",
      "Epoch 41/200\n",
      "1/1 - 0s - loss: 0.6110 - binary_accuracy: 0.7650 - val_loss: 0.6072 - val_binary_accuracy: 0.6300\n",
      "Epoch 42/200\n",
      "1/1 - 0s - loss: 0.6044 - binary_accuracy: 0.7550 - val_loss: 0.6040 - val_binary_accuracy: 0.6300\n",
      "Epoch 43/200\n",
      "1/1 - 0s - loss: 0.5946 - binary_accuracy: 0.7750 - val_loss: 0.6021 - val_binary_accuracy: 0.6300\n",
      "Epoch 44/200\n",
      "1/1 - 0s - loss: 0.5840 - binary_accuracy: 0.7800 - val_loss: 0.6016 - val_binary_accuracy: 0.6300\n",
      "Epoch 45/200\n",
      "1/1 - 0s - loss: 0.5754 - binary_accuracy: 0.7650 - val_loss: 0.6020 - val_binary_accuracy: 0.6300\n",
      "Epoch 46/200\n",
      "1/1 - 0s - loss: 0.5627 - binary_accuracy: 0.7800 - val_loss: 0.6032 - val_binary_accuracy: 0.6300\n",
      "Epoch 47/200\n",
      "1/1 - 0s - loss: 0.5493 - binary_accuracy: 0.7550 - val_loss: 0.6056 - val_binary_accuracy: 0.6300\n",
      "Epoch 48/200\n",
      "1/1 - 0s - loss: 0.5481 - binary_accuracy: 0.7450 - val_loss: 0.6087 - val_binary_accuracy: 0.6300\n",
      "Epoch 49/200\n",
      "1/1 - 0s - loss: 0.5343 - binary_accuracy: 0.7700 - val_loss: 0.6115 - val_binary_accuracy: 0.6300\n",
      "Epoch 50/200\n",
      "1/1 - 0s - loss: 0.5174 - binary_accuracy: 0.7650 - val_loss: 0.6160 - val_binary_accuracy: 0.6300\n",
      "Epoch 51/200\n",
      "1/1 - 0s - loss: 0.5162 - binary_accuracy: 0.7600 - val_loss: 0.6176 - val_binary_accuracy: 0.6400\n",
      "Epoch 52/200\n",
      "1/1 - 0s - loss: 0.5041 - binary_accuracy: 0.7700 - val_loss: 0.6158 - val_binary_accuracy: 0.6400\n",
      "Epoch 53/200\n",
      "1/1 - 0s - loss: 0.4984 - binary_accuracy: 0.7700 - val_loss: 0.6096 - val_binary_accuracy: 0.6500\n",
      "Epoch 54/200\n",
      "1/1 - 0s - loss: 0.4781 - binary_accuracy: 0.7650 - val_loss: 0.6026 - val_binary_accuracy: 0.6500\n",
      "Epoch 55/200\n",
      "1/1 - 0s - loss: 0.4686 - binary_accuracy: 0.7600 - val_loss: 0.5970 - val_binary_accuracy: 0.6600\n",
      "Epoch 56/200\n",
      "1/1 - 0s - loss: 0.4594 - binary_accuracy: 0.7700 - val_loss: 0.5906 - val_binary_accuracy: 0.6700\n",
      "Epoch 57/200\n",
      "1/1 - 0s - loss: 0.4373 - binary_accuracy: 0.7900 - val_loss: 0.5905 - val_binary_accuracy: 0.6700\n",
      "Epoch 58/200\n",
      "1/1 - 0s - loss: 0.4258 - binary_accuracy: 0.7650 - val_loss: 0.5852 - val_binary_accuracy: 0.6700\n",
      "Epoch 59/200\n",
      "1/1 - 0s - loss: 0.3968 - binary_accuracy: 0.8200 - val_loss: 0.5717 - val_binary_accuracy: 0.6800\n",
      "Epoch 60/200\n",
      "1/1 - 0s - loss: 0.3875 - binary_accuracy: 0.8200 - val_loss: 0.5490 - val_binary_accuracy: 0.6900\n",
      "Epoch 61/200\n",
      "1/1 - 0s - loss: 0.3807 - binary_accuracy: 0.8300 - val_loss: 0.5193 - val_binary_accuracy: 0.7000\n",
      "Epoch 62/200\n",
      "1/1 - 0s - loss: 0.3760 - binary_accuracy: 0.8250 - val_loss: 0.4860 - val_binary_accuracy: 0.7200\n",
      "Epoch 63/200\n",
      "1/1 - 0s - loss: 0.3522 - binary_accuracy: 0.8450 - val_loss: 0.4558 - val_binary_accuracy: 0.7600\n",
      "Epoch 64/200\n",
      "1/1 - 0s - loss: 0.3342 - binary_accuracy: 0.8350 - val_loss: 0.4349 - val_binary_accuracy: 0.7700\n",
      "Epoch 65/200\n",
      "1/1 - 0s - loss: 0.3183 - binary_accuracy: 0.8600 - val_loss: 0.4147 - val_binary_accuracy: 0.8000\n",
      "Epoch 66/200\n",
      "1/1 - 0s - loss: 0.3026 - binary_accuracy: 0.8850 - val_loss: 0.3853 - val_binary_accuracy: 0.8100\n",
      "Epoch 67/200\n",
      "1/1 - 0s - loss: 0.2677 - binary_accuracy: 0.9150 - val_loss: 0.3533 - val_binary_accuracy: 0.8200\n",
      "Epoch 68/200\n",
      "1/1 - 0s - loss: 0.2501 - binary_accuracy: 0.8950 - val_loss: 0.3247 - val_binary_accuracy: 0.8600\n",
      "Epoch 69/200\n",
      "1/1 - 0s - loss: 0.2578 - binary_accuracy: 0.8950 - val_loss: 0.3034 - val_binary_accuracy: 0.8600\n",
      "Epoch 70/200\n",
      "1/1 - 0s - loss: 0.2308 - binary_accuracy: 0.9200 - val_loss: 0.2896 - val_binary_accuracy: 0.8800\n",
      "Epoch 71/200\n",
      "1/1 - 0s - loss: 0.2223 - binary_accuracy: 0.9350 - val_loss: 0.2724 - val_binary_accuracy: 0.8800\n",
      "Epoch 72/200\n",
      "1/1 - 0s - loss: 0.2210 - binary_accuracy: 0.9250 - val_loss: 0.2567 - val_binary_accuracy: 0.8900\n",
      "Epoch 73/200\n",
      "1/1 - 0s - loss: 0.2183 - binary_accuracy: 0.9200 - val_loss: 0.2438 - val_binary_accuracy: 0.8900\n",
      "Epoch 74/200\n",
      "1/1 - 0s - loss: 0.1956 - binary_accuracy: 0.9350 - val_loss: 0.2326 - val_binary_accuracy: 0.9000\n"
     ]
    },
    {
     "name": "stdout",
     "output_type": "stream",
     "text": [
      "Epoch 75/200\n",
      "1/1 - 0s - loss: 0.1816 - binary_accuracy: 0.9200 - val_loss: 0.2236 - val_binary_accuracy: 0.9300\n",
      "Epoch 76/200\n",
      "1/1 - 0s - loss: 0.1977 - binary_accuracy: 0.9200 - val_loss: 0.2237 - val_binary_accuracy: 0.9300\n",
      "Epoch 77/200\n",
      "1/1 - 0s - loss: 0.1731 - binary_accuracy: 0.9350 - val_loss: 0.2112 - val_binary_accuracy: 0.9400\n",
      "Epoch 78/200\n",
      "1/1 - 0s - loss: 0.1650 - binary_accuracy: 0.9450 - val_loss: 0.1990 - val_binary_accuracy: 0.9500\n",
      "Epoch 79/200\n",
      "1/1 - 0s - loss: 0.1576 - binary_accuracy: 0.9350 - val_loss: 0.1922 - val_binary_accuracy: 0.9300\n",
      "Epoch 80/200\n",
      "1/1 - 0s - loss: 0.1527 - binary_accuracy: 0.9400 - val_loss: 0.1868 - val_binary_accuracy: 0.9400\n",
      "Epoch 81/200\n",
      "1/1 - 0s - loss: 0.1477 - binary_accuracy: 0.9400 - val_loss: 0.1839 - val_binary_accuracy: 0.9400\n",
      "Epoch 82/200\n",
      "1/1 - 0s - loss: 0.1395 - binary_accuracy: 0.9600 - val_loss: 0.1805 - val_binary_accuracy: 0.9400\n",
      "Epoch 83/200\n",
      "1/1 - 0s - loss: 0.1620 - binary_accuracy: 0.9400 - val_loss: 0.1759 - val_binary_accuracy: 0.9400\n",
      "Epoch 84/200\n",
      "1/1 - 0s - loss: 0.1524 - binary_accuracy: 0.9250 - val_loss: 0.1730 - val_binary_accuracy: 0.8900\n",
      "Epoch 85/200\n",
      "1/1 - 0s - loss: 0.1238 - binary_accuracy: 0.9550 - val_loss: 0.1832 - val_binary_accuracy: 0.9000\n",
      "Epoch 86/200\n",
      "1/1 - 0s - loss: 0.1683 - binary_accuracy: 0.9250 - val_loss: 0.1924 - val_binary_accuracy: 0.8900\n",
      "Epoch 87/200\n",
      "1/1 - 0s - loss: 0.1494 - binary_accuracy: 0.9400 - val_loss: 0.1808 - val_binary_accuracy: 0.9000\n",
      "Epoch 88/200\n",
      "1/1 - 0s - loss: 0.1135 - binary_accuracy: 0.9650 - val_loss: 0.1740 - val_binary_accuracy: 0.9000\n",
      "Epoch 89/200\n",
      "1/1 - 0s - loss: 0.1451 - binary_accuracy: 0.9350 - val_loss: 0.2044 - val_binary_accuracy: 0.8800\n",
      "Epoch 90/200\n",
      "1/1 - 0s - loss: 0.1409 - binary_accuracy: 0.9550 - val_loss: 0.2108 - val_binary_accuracy: 0.8800\n",
      "Epoch 91/200\n",
      "1/1 - 0s - loss: 0.1327 - binary_accuracy: 0.9400 - val_loss: 0.1819 - val_binary_accuracy: 0.9000\n",
      "Epoch 92/200\n",
      "1/1 - 0s - loss: 0.0707 - binary_accuracy: 0.9850 - val_loss: 0.1589 - val_binary_accuracy: 0.8900\n",
      "Epoch 93/200\n",
      "1/1 - 0s - loss: 0.1378 - binary_accuracy: 0.9450 - val_loss: 0.1620 - val_binary_accuracy: 0.9000\n",
      "Epoch 94/200\n",
      "1/1 - 0s - loss: 0.1257 - binary_accuracy: 0.9550 - val_loss: 0.1780 - val_binary_accuracy: 0.9100\n",
      "Epoch 95/200\n",
      "1/1 - 0s - loss: 0.1235 - binary_accuracy: 0.9500 - val_loss: 0.1753 - val_binary_accuracy: 0.9100\n",
      "Epoch 96/200\n",
      "1/1 - 0s - loss: 0.0987 - binary_accuracy: 0.9450 - val_loss: 0.1627 - val_binary_accuracy: 0.9000\n",
      "Epoch 97/200\n",
      "1/1 - 0s - loss: 0.0947 - binary_accuracy: 0.9700 - val_loss: 0.1498 - val_binary_accuracy: 0.9000\n",
      "Epoch 98/200\n",
      "1/1 - 0s - loss: 0.0922 - binary_accuracy: 0.9600 - val_loss: 0.1437 - val_binary_accuracy: 0.9500\n",
      "Epoch 99/200\n",
      "1/1 - 0s - loss: 0.1186 - binary_accuracy: 0.9500 - val_loss: 0.1412 - val_binary_accuracy: 0.9500\n",
      "Epoch 100/200\n",
      "1/1 - 0s - loss: 0.0871 - binary_accuracy: 0.9600 - val_loss: 0.1532 - val_binary_accuracy: 0.9000\n",
      "Epoch 101/200\n",
      "1/1 - 0s - loss: 0.0853 - binary_accuracy: 0.9600 - val_loss: 0.1699 - val_binary_accuracy: 0.8800\n",
      "Epoch 102/200\n",
      "1/1 - 0s - loss: 0.0974 - binary_accuracy: 0.9600 - val_loss: 0.1540 - val_binary_accuracy: 0.9100\n",
      "Epoch 103/200\n",
      "1/1 - 0s - loss: 0.0890 - binary_accuracy: 0.9700 - val_loss: 0.1354 - val_binary_accuracy: 0.9500\n",
      "Epoch 104/200\n",
      "1/1 - 0s - loss: 0.0910 - binary_accuracy: 0.9700 - val_loss: 0.1313 - val_binary_accuracy: 0.9700\n",
      "Epoch 105/200\n",
      "1/1 - 0s - loss: 0.0956 - binary_accuracy: 0.9550 - val_loss: 0.1314 - val_binary_accuracy: 0.9600\n",
      "Epoch 106/200\n",
      "1/1 - 0s - loss: 0.1023 - binary_accuracy: 0.9350 - val_loss: 0.1500 - val_binary_accuracy: 0.9100\n",
      "Epoch 107/200\n",
      "1/1 - 0s - loss: 0.1069 - binary_accuracy: 0.9550 - val_loss: 0.1723 - val_binary_accuracy: 0.8800\n",
      "Epoch 108/200\n",
      "1/1 - 0s - loss: 0.1295 - binary_accuracy: 0.9450 - val_loss: 0.1487 - val_binary_accuracy: 0.9100\n",
      "Epoch 109/200\n",
      "1/1 - 0s - loss: 0.1072 - binary_accuracy: 0.9450 - val_loss: 0.1221 - val_binary_accuracy: 0.9600\n",
      "Epoch 110/200\n",
      "1/1 - 0s - loss: 0.0883 - binary_accuracy: 0.9600 - val_loss: 0.1291 - val_binary_accuracy: 0.9400\n",
      "Epoch 111/200\n",
      "1/1 - 0s - loss: 0.0761 - binary_accuracy: 0.9750 - val_loss: 0.1292 - val_binary_accuracy: 0.9500\n",
      "Epoch 112/200\n",
      "1/1 - 0s - loss: 0.1036 - binary_accuracy: 0.9500 - val_loss: 0.1183 - val_binary_accuracy: 0.9700\n",
      "Epoch 113/200\n",
      "1/1 - 0s - loss: 0.0764 - binary_accuracy: 0.9600 - val_loss: 0.1278 - val_binary_accuracy: 0.9600\n",
      "Epoch 114/200\n",
      "1/1 - 0s - loss: 0.0936 - binary_accuracy: 0.9600 - val_loss: 0.1292 - val_binary_accuracy: 0.9600\n",
      "Epoch 115/200\n",
      "1/1 - 0s - loss: 0.0811 - binary_accuracy: 0.9650 - val_loss: 0.1184 - val_binary_accuracy: 0.9700\n",
      "Epoch 116/200\n",
      "1/1 - 0s - loss: 0.0947 - binary_accuracy: 0.9700 - val_loss: 0.1146 - val_binary_accuracy: 0.9500\n",
      "Epoch 117/200\n",
      "1/1 - 0s - loss: 0.1039 - binary_accuracy: 0.9450 - val_loss: 0.1137 - val_binary_accuracy: 0.9500\n",
      "Epoch 118/200\n",
      "1/1 - 0s - loss: 0.0973 - binary_accuracy: 0.9550 - val_loss: 0.1127 - val_binary_accuracy: 0.9700\n",
      "Epoch 119/200\n",
      "1/1 - 0s - loss: 0.0784 - binary_accuracy: 0.9800 - val_loss: 0.1154 - val_binary_accuracy: 0.9700\n",
      "Epoch 120/200\n",
      "1/1 - 0s - loss: 0.0849 - binary_accuracy: 0.9500 - val_loss: 0.1155 - val_binary_accuracy: 0.9700\n",
      "Epoch 121/200\n",
      "1/1 - 0s - loss: 0.0832 - binary_accuracy: 0.9700 - val_loss: 0.1125 - val_binary_accuracy: 0.9700\n",
      "Epoch 122/200\n",
      "1/1 - 0s - loss: 0.0670 - binary_accuracy: 0.9700 - val_loss: 0.1076 - val_binary_accuracy: 0.9700\n",
      "Epoch 123/200\n",
      "1/1 - 0s - loss: 0.0797 - binary_accuracy: 0.9700 - val_loss: 0.1063 - val_binary_accuracy: 0.9700\n",
      "Epoch 124/200\n",
      "1/1 - 0s - loss: 0.0718 - binary_accuracy: 0.9750 - val_loss: 0.1056 - val_binary_accuracy: 0.9700\n",
      "Epoch 125/200\n",
      "1/1 - 0s - loss: 0.0686 - binary_accuracy: 0.9800 - val_loss: 0.1052 - val_binary_accuracy: 0.9600\n",
      "Epoch 126/200\n",
      "1/1 - 0s - loss: 0.0503 - binary_accuracy: 0.9850 - val_loss: 0.1035 - val_binary_accuracy: 0.9700\n",
      "Epoch 127/200\n",
      "1/1 - 0s - loss: 0.0793 - binary_accuracy: 0.9600 - val_loss: 0.1017 - val_binary_accuracy: 0.9700\n",
      "Epoch 128/200\n",
      "1/1 - 0s - loss: 0.0829 - binary_accuracy: 0.9650 - val_loss: 0.1007 - val_binary_accuracy: 0.9700\n",
      "Epoch 129/200\n",
      "1/1 - 0s - loss: 0.0806 - binary_accuracy: 0.9700 - val_loss: 0.1007 - val_binary_accuracy: 0.9700\n",
      "Epoch 130/200\n",
      "1/1 - 0s - loss: 0.0704 - binary_accuracy: 0.9600 - val_loss: 0.1023 - val_binary_accuracy: 0.9600\n",
      "Epoch 131/200\n",
      "1/1 - 0s - loss: 0.0678 - binary_accuracy: 0.9800 - val_loss: 0.1013 - val_binary_accuracy: 0.9700\n",
      "Epoch 132/200\n",
      "1/1 - 0s - loss: 0.0828 - binary_accuracy: 0.9650 - val_loss: 0.0987 - val_binary_accuracy: 0.9700\n",
      "Epoch 133/200\n",
      "1/1 - 0s - loss: 0.0612 - binary_accuracy: 0.9700 - val_loss: 0.0991 - val_binary_accuracy: 0.9700\n",
      "Epoch 134/200\n",
      "1/1 - 0s - loss: 0.0718 - binary_accuracy: 0.9600 - val_loss: 0.0978 - val_binary_accuracy: 0.9700\n",
      "Epoch 135/200\n",
      "1/1 - 0s - loss: 0.0716 - binary_accuracy: 0.9500 - val_loss: 0.0966 - val_binary_accuracy: 0.9700\n",
      "Epoch 136/200\n",
      "1/1 - 0s - loss: 0.0873 - binary_accuracy: 0.9800 - val_loss: 0.0973 - val_binary_accuracy: 0.9700\n",
      "Epoch 137/200\n",
      "1/1 - 0s - loss: 0.0865 - binary_accuracy: 0.9600 - val_loss: 0.0959 - val_binary_accuracy: 0.9700\n",
      "Epoch 138/200\n",
      "1/1 - 0s - loss: 0.0559 - binary_accuracy: 0.9800 - val_loss: 0.0955 - val_binary_accuracy: 0.9700\n",
      "Epoch 139/200\n",
      "1/1 - 0s - loss: 0.0832 - binary_accuracy: 0.9550 - val_loss: 0.0972 - val_binary_accuracy: 0.9700\n",
      "Epoch 140/200\n",
      "1/1 - 0s - loss: 0.0817 - binary_accuracy: 0.9600 - val_loss: 0.0994 - val_binary_accuracy: 0.9800\n",
      "Epoch 141/200\n",
      "1/1 - 0s - loss: 0.0499 - binary_accuracy: 0.9850 - val_loss: 0.0992 - val_binary_accuracy: 0.9800\n",
      "Epoch 142/200\n",
      "1/1 - 0s - loss: 0.0599 - binary_accuracy: 0.9850 - val_loss: 0.0958 - val_binary_accuracy: 0.9700\n",
      "Epoch 143/200\n",
      "1/1 - 0s - loss: 0.0504 - binary_accuracy: 0.9950 - val_loss: 0.0946 - val_binary_accuracy: 0.9700\n",
      "Epoch 144/200\n",
      "1/1 - 0s - loss: 0.0503 - binary_accuracy: 0.9750 - val_loss: 0.0945 - val_binary_accuracy: 0.9700\n",
      "Epoch 145/200\n",
      "1/1 - 0s - loss: 0.0771 - binary_accuracy: 0.9650 - val_loss: 0.0998 - val_binary_accuracy: 0.9800\n",
      "Epoch 146/200\n",
      "1/1 - 0s - loss: 0.0582 - binary_accuracy: 0.9750 - val_loss: 0.1005 - val_binary_accuracy: 0.9800\n",
      "Epoch 147/200\n",
      "1/1 - 0s - loss: 0.0523 - binary_accuracy: 0.9800 - val_loss: 0.0938 - val_binary_accuracy: 0.9800\n"
     ]
    },
    {
     "name": "stdout",
     "output_type": "stream",
     "text": [
      "Epoch 148/200\n",
      "1/1 - 0s - loss: 0.0564 - binary_accuracy: 0.9800 - val_loss: 0.0891 - val_binary_accuracy: 0.9700\n",
      "Epoch 149/200\n",
      "1/1 - 0s - loss: 0.0840 - binary_accuracy: 0.9650 - val_loss: 0.0879 - val_binary_accuracy: 0.9800\n",
      "Epoch 150/200\n",
      "1/1 - 0s - loss: 0.0574 - binary_accuracy: 0.9700 - val_loss: 0.0867 - val_binary_accuracy: 0.9700\n",
      "Epoch 151/200\n",
      "1/1 - 0s - loss: 0.0531 - binary_accuracy: 0.9800 - val_loss: 0.0860 - val_binary_accuracy: 0.9700\n",
      "Epoch 152/200\n",
      "1/1 - 0s - loss: 0.0450 - binary_accuracy: 0.9800 - val_loss: 0.0855 - val_binary_accuracy: 0.9700\n",
      "Epoch 153/200\n",
      "1/1 - 0s - loss: 0.0910 - binary_accuracy: 0.9600 - val_loss: 0.0832 - val_binary_accuracy: 0.9800\n",
      "Epoch 154/200\n",
      "1/1 - 0s - loss: 0.0421 - binary_accuracy: 0.9900 - val_loss: 0.0828 - val_binary_accuracy: 0.9800\n",
      "Epoch 155/200\n",
      "1/1 - 0s - loss: 0.0464 - binary_accuracy: 0.9850 - val_loss: 0.0834 - val_binary_accuracy: 0.9700\n",
      "Epoch 156/200\n",
      "1/1 - 0s - loss: 0.0529 - binary_accuracy: 0.9900 - val_loss: 0.0839 - val_binary_accuracy: 0.9700\n",
      "Epoch 157/200\n",
      "1/1 - 0s - loss: 0.0473 - binary_accuracy: 0.9850 - val_loss: 0.0862 - val_binary_accuracy: 0.9700\n",
      "Epoch 158/200\n",
      "1/1 - 0s - loss: 0.0649 - binary_accuracy: 0.9750 - val_loss: 0.0816 - val_binary_accuracy: 0.9700\n",
      "Epoch 159/200\n",
      "1/1 - 0s - loss: 0.0452 - binary_accuracy: 0.9850 - val_loss: 0.0784 - val_binary_accuracy: 0.9800\n",
      "Epoch 160/200\n",
      "1/1 - 0s - loss: 0.0577 - binary_accuracy: 0.9800 - val_loss: 0.0768 - val_binary_accuracy: 0.9800\n",
      "Epoch 161/200\n",
      "1/1 - 0s - loss: 0.0587 - binary_accuracy: 0.9700 - val_loss: 0.0785 - val_binary_accuracy: 0.9800\n",
      "Epoch 162/200\n",
      "1/1 - 0s - loss: 0.0653 - binary_accuracy: 0.9700 - val_loss: 0.0778 - val_binary_accuracy: 0.9800\n",
      "Epoch 163/200\n",
      "1/1 - 0s - loss: 0.0524 - binary_accuracy: 0.9800 - val_loss: 0.0764 - val_binary_accuracy: 0.9800\n",
      "Epoch 164/200\n",
      "1/1 - 0s - loss: 0.0375 - binary_accuracy: 0.9900 - val_loss: 0.0748 - val_binary_accuracy: 0.9800\n",
      "Epoch 165/200\n",
      "1/1 - 0s - loss: 0.1017 - binary_accuracy: 0.9500 - val_loss: 0.0765 - val_binary_accuracy: 0.9800\n",
      "Epoch 166/200\n",
      "1/1 - 0s - loss: 0.0529 - binary_accuracy: 0.9800 - val_loss: 0.0792 - val_binary_accuracy: 0.9700\n",
      "Epoch 167/200\n",
      "1/1 - 0s - loss: 0.0682 - binary_accuracy: 0.9700 - val_loss: 0.0769 - val_binary_accuracy: 0.9800\n",
      "Epoch 168/200\n",
      "1/1 - 0s - loss: 0.0764 - binary_accuracy: 0.9850 - val_loss: 0.0759 - val_binary_accuracy: 0.9800\n",
      "Epoch 169/200\n",
      "1/1 - 0s - loss: 0.0562 - binary_accuracy: 0.9700 - val_loss: 0.0744 - val_binary_accuracy: 0.9800\n",
      "Epoch 170/200\n",
      "1/1 - 0s - loss: 0.0728 - binary_accuracy: 0.9700 - val_loss: 0.0740 - val_binary_accuracy: 0.9800\n",
      "Epoch 171/200\n",
      "1/1 - 0s - loss: 0.0676 - binary_accuracy: 0.9650 - val_loss: 0.0742 - val_binary_accuracy: 0.9800\n",
      "Epoch 172/200\n",
      "1/1 - 0s - loss: 0.0356 - binary_accuracy: 0.9900 - val_loss: 0.0756 - val_binary_accuracy: 0.9800\n",
      "Epoch 173/200\n",
      "1/1 - 0s - loss: 0.0478 - binary_accuracy: 0.9800 - val_loss: 0.0726 - val_binary_accuracy: 0.9800\n",
      "Epoch 174/200\n",
      "1/1 - 0s - loss: 0.0496 - binary_accuracy: 0.9750 - val_loss: 0.0726 - val_binary_accuracy: 0.9900\n",
      "Epoch 175/200\n",
      "1/1 - 0s - loss: 0.0684 - binary_accuracy: 0.9650 - val_loss: 0.0723 - val_binary_accuracy: 0.9800\n",
      "Epoch 176/200\n",
      "1/1 - 0s - loss: 0.0413 - binary_accuracy: 0.9850 - val_loss: 0.0855 - val_binary_accuracy: 0.9800\n",
      "Epoch 177/200\n",
      "1/1 - 0s - loss: 0.0652 - binary_accuracy: 0.9750 - val_loss: 0.0912 - val_binary_accuracy: 0.9500\n",
      "Epoch 178/200\n",
      "1/1 - 0s - loss: 0.0774 - binary_accuracy: 0.9650 - val_loss: 0.0753 - val_binary_accuracy: 0.9800\n",
      "Epoch 179/200\n",
      "1/1 - 0s - loss: 0.0997 - binary_accuracy: 0.9550 - val_loss: 0.0694 - val_binary_accuracy: 0.9900\n",
      "Epoch 180/200\n",
      "1/1 - 0s - loss: 0.0482 - binary_accuracy: 0.9850 - val_loss: 0.0715 - val_binary_accuracy: 0.9800\n",
      "Epoch 181/200\n",
      "1/1 - 0s - loss: 0.0951 - binary_accuracy: 0.9650 - val_loss: 0.0988 - val_binary_accuracy: 0.9500\n",
      "Epoch 182/200\n",
      "1/1 - 0s - loss: 0.0493 - binary_accuracy: 0.9850 - val_loss: 0.1134 - val_binary_accuracy: 0.9300\n",
      "Epoch 183/200\n",
      "1/1 - 0s - loss: 0.0695 - binary_accuracy: 0.9650 - val_loss: 0.0846 - val_binary_accuracy: 0.9600\n",
      "Epoch 184/200\n",
      "1/1 - 0s - loss: 0.0621 - binary_accuracy: 0.9750 - val_loss: 0.0685 - val_binary_accuracy: 0.9900\n",
      "Epoch 185/200\n",
      "1/1 - 0s - loss: 0.0605 - binary_accuracy: 0.9800 - val_loss: 0.0711 - val_binary_accuracy: 0.9900\n",
      "Epoch 186/200\n",
      "1/1 - 0s - loss: 0.0583 - binary_accuracy: 0.9700 - val_loss: 0.0685 - val_binary_accuracy: 0.9900\n",
      "Epoch 187/200\n",
      "1/1 - 0s - loss: 0.0634 - binary_accuracy: 0.9800 - val_loss: 0.0760 - val_binary_accuracy: 0.9800\n",
      "Epoch 188/200\n",
      "1/1 - 0s - loss: 0.0429 - binary_accuracy: 0.9800 - val_loss: 0.1020 - val_binary_accuracy: 0.9400\n",
      "Epoch 189/200\n",
      "1/1 - 0s - loss: 0.0725 - binary_accuracy: 0.9600 - val_loss: 0.0978 - val_binary_accuracy: 0.9400\n",
      "Epoch 190/200\n",
      "1/1 - 0s - loss: 0.0522 - binary_accuracy: 0.9750 - val_loss: 0.0726 - val_binary_accuracy: 0.9800\n",
      "Epoch 191/200\n",
      "1/1 - 0s - loss: 0.0769 - binary_accuracy: 0.9600 - val_loss: 0.0687 - val_binary_accuracy: 0.9900\n",
      "Epoch 192/200\n",
      "1/1 - 0s - loss: 0.0694 - binary_accuracy: 0.9600 - val_loss: 0.0682 - val_binary_accuracy: 0.9900\n",
      "Epoch 193/200\n",
      "1/1 - 0s - loss: 0.0445 - binary_accuracy: 0.9750 - val_loss: 0.0700 - val_binary_accuracy: 0.9800\n",
      "Epoch 194/200\n",
      "1/1 - 0s - loss: 0.0592 - binary_accuracy: 0.9850 - val_loss: 0.0800 - val_binary_accuracy: 0.9800\n",
      "Epoch 195/200\n",
      "1/1 - 0s - loss: 0.0656 - binary_accuracy: 0.9700 - val_loss: 0.0744 - val_binary_accuracy: 0.9800\n",
      "Epoch 196/200\n",
      "1/1 - 0s - loss: 0.0667 - binary_accuracy: 0.9750 - val_loss: 0.0693 - val_binary_accuracy: 0.9800\n",
      "Epoch 197/200\n",
      "1/1 - 0s - loss: 0.0675 - binary_accuracy: 0.9800 - val_loss: 0.0677 - val_binary_accuracy: 0.9900\n",
      "Epoch 198/200\n",
      "1/1 - 0s - loss: 0.0836 - binary_accuracy: 0.9700 - val_loss: 0.0673 - val_binary_accuracy: 0.9900\n",
      "Epoch 199/200\n",
      "1/1 - 0s - loss: 0.0413 - binary_accuracy: 0.9900 - val_loss: 0.0701 - val_binary_accuracy: 0.9900\n",
      "Epoch 200/200\n",
      "1/1 - 0s - loss: 0.0329 - binary_accuracy: 0.9850 - val_loss: 0.0759 - val_binary_accuracy: 0.9800\n"
     ]
    }
   ],
   "source": [
    "start_LSTM = time.time()\n",
    "history_LSTM=model_LSTM.fit(X_train_LSTM, y_train, batch_size=len(X_train_LSTM), epochs=200, verbose=0, validation_split=0.33, shuffle=False)\n",
    "end_LSTM = time.time()\n",
    "LSTM_runtime=end_LSTM - start_LSTM\n",
    "\n",
    "print('Runtime:',LSTM_runtime)"
   ]
  },
  {
   "cell_type": "code",
   "execution_count": null,
   "metadata": {},
   "outputs": [],
   "source": [
    "runtimes.append(LSTM_runtime)"
   ]
  },
  {
   "cell_type": "code",
   "execution_count": 80,
   "metadata": {},
   "outputs": [
    {
     "name": "stdout",
     "output_type": "stream",
     "text": [
      "Model: \"sequential_3\"\n",
      "_________________________________________________________________\n",
      "Layer (type)                 Output Shape              Param #   \n",
      "=================================================================\n",
      "lstm (LSTM)                  (None, 1, 256)            268288    \n",
      "_________________________________________________________________\n",
      "dropout_2 (Dropout)          (None, 1, 256)            0         \n",
      "_________________________________________________________________\n",
      "lstm_1 (LSTM)                (None, 1, 256)            525312    \n",
      "_________________________________________________________________\n",
      "dropout_3 (Dropout)          (None, 1, 256)            0         \n",
      "_________________________________________________________________\n",
      "lstm_2 (LSTM)                (None, 64)                82176     \n",
      "_________________________________________________________________\n",
      "dropout_4 (Dropout)          (None, 64)                0         \n",
      "_________________________________________________________________\n",
      "dense_8 (Dense)              (None, 64)                4160      \n",
      "_________________________________________________________________\n",
      "dense_9 (Dense)              (None, 1)                 65        \n",
      "=================================================================\n",
      "Total params: 880,001\n",
      "Trainable params: 880,001\n",
      "Non-trainable params: 0\n",
      "_________________________________________________________________\n",
      "None\n"
     ]
    }
   ],
   "source": [
    "print(model_LSTM.summary())"
   ]
  },
  {
   "cell_type": "markdown",
   "metadata": {},
   "source": [
    "#### <font color= darkblue> Visualización de precisión y pérdida en los conjuntos de entrenamiento y validación"
   ]
  },
  {
   "cell_type": "code",
   "execution_count": 83,
   "metadata": {},
   "outputs": [
    {
     "data": {
      "image/png": "[encoded data removed]",
      "text/plain": [
       "<Figure size 1440x720 with 2 Axes>"
      ]
     },
     "metadata": {},
     "output_type": "display_data"
    }
   ],
   "source": [
    "# LSTM\n",
    "fig, axs = plt.subplots(1,2)\n",
    "fig.suptitle('LSTM model training performance', fontsize=20)\n",
    "axs[0].plot(history_LSTM.history['binary_accuracy'])\n",
    "axs[0].plot(history_LSTM.history['val_binary_accuracy'])\n",
    "axs[0].set_title('Model accuracy', fontsize=15)\n",
    "axs[0].set_ylabel('binary_accuracy')\n",
    "axs[0].set_xlabel('epoch')\n",
    "axs[0].legend(['train', 'validation'], loc='upper left')\n",
    "axs[1].plot(history_LSTM.history['loss'])\n",
    "axs[1].plot(history_LSTM.history['val_loss'])\n",
    "axs[1].set_title('Model loss', fontsize=15)\n",
    "axs[1].set_ylabel('loss')\n",
    "axs[1].set_xlabel('epoch')\n",
    "axs[1].legend(['train', 'validation'], loc='upper left')\n",
    "plt.show()"
   ]
  },
  {
   "cell_type": "markdown",
   "metadata": {},
   "source": [
    "### <font color= darkblue> Prediction\n",
    "    \n",
    "Now that we have both networks trained, we need to test them in the test set.\n",
    "\n",
    "As measures of the performance of both networks we will use the binary_accuracy (number of correct predictions divided by the total amount of data in the response variable) and the binary_crossentropy (it is the average of the loss of categorical cross entropy in many tasks of two categories)."
   ]
  },
  {
   "cell_type": "code",
   "execution_count": 86,
   "metadata": {},
   "outputs": [],
   "source": [
    "# MLP\n",
    "y_pred_MLP=MLP.predict(X_test, batch_size=1)\n",
    "# LSTM\n",
    "y_pred_LSTM=model_LSTM.predict(X_test_LSTM, batch_size=1)"
   ]
  },
  {
   "cell_type": "markdown",
   "metadata": {},
   "source": [
    "#### <font color= darkblue> Prediction metrics on the test set"
   ]
  },
  {
   "cell_type": "code",
   "execution_count": 87,
   "metadata": {},
   "outputs": [
    {
     "name": "stdout",
     "output_type": "stream",
     "text": [
      "22/22 [==============================] - 0s 999us/step - loss: 0.6546 - binary_accuracy: 0.5544\n",
      "MLP: [binary_crossentropy, binary_accuracy] = [0.6546131372451782, 0.5544412732124329]\n"
     ]
    }
   ],
   "source": [
    "# MLP\n",
    "results_MLP=MLP.evaluate(X_test, y_test)\n",
    "print('MLP: [binary_crossentropy, binary_accuracy] =', results_MLP)"
   ]
  },
  {
   "cell_type": "code",
   "execution_count": 88,
   "metadata": {},
   "outputs": [
    {
     "name": "stdout",
     "output_type": "stream",
     "text": [
      "22/22 [==============================] - 0s 4ms/step - loss: 0.6842 - binary_accuracy: 0.8754\n",
      "LSTM: [binary_crossentropy, binary_accuracy] = [0.6842200756072998, 0.8753581643104553]\n"
     ]
    }
   ],
   "source": [
    "# LSTM\n",
    "results_LSTM=model_LSTM.evaluate(X_test_LSTM, y_test)\n",
    "print('LSTM: [binary_crossentropy, binary_accuracy] =', results_LSTM)"
   ]
  },
  {
   "cell_type": "markdown",
   "metadata": {},
   "source": [
    "The LSTM network is seen to be far superior to the MLP, and overall it is among the best models considered."
   ]
  },
  {
   "cell_type": "markdown",
   "metadata": {},
   "source": [
    "### <font color= darkblue> 12. Model Averaging Ensemble"
   ]
  },
  {
   "cell_type": "markdown",
   "metadata": {},
   "source": [
    "To finish with the models, we show one last aspect.\n",
    "\n",
    "We have seen that many of the models we tested were overfitted. This is a common problem in time series and is usually caused by the correlation that exists between the train set and the test set, due to the time dependence inherent in the series.\n",
    "\n",
    "To improve this situation we will perform an averaging ensemble combining two resampling techniques: block bootstraping and Time Series cross-validation."
   ]
  },
  {
   "cell_type": "markdown",
   "metadata": {},
   "source": [
    "#### <font color= darkblue> Block Bootstrap\n",
    "    \n",
    "The basic idea behind the bootstrap is to estimate the quantities or characteristics that interest us by doing a resampling with replacement of the original sample. When dealing with time-correlated data, simple resampling is not appropriate because in this way we will not be able to replicate the time dependency structure inherent in the data. For this reason, other bootstrap techniques have been developed for time series. One of the most common techniques is known as block bootstrap.\n",
    "\n",
    "The bootstrap block tries to create new time series, with the same dependency as the original data, using the resample idea from before but no longer taking one data per iteration but separating the data into blocks and taking one block per iteration, with replacement. In this way, by taking blocks instead of isolated data, we retain the inherent time dependency."
   ]
  },
  {
   "cell_type": "code",
   "execution_count": null,
   "metadata": {},
   "outputs": [],
   "source": [
    "len(X_train)"
   ]
  },
  {
   "cell_type": "code",
   "execution_count": null,
   "metadata": {},
   "outputs": [],
   "source": [
    "# creo muestras block bootstraps con bloques de longitud n=100\n",
    "bs = StationaryBootstrap(100, X_train, y=y_train)\n",
    "scores=[]\n",
    "X_train_bs=[X_train]\n",
    "y_train_bs=[y_train]\n",
    "for data in bs.bootstrap(50):\n",
    "    bs_X = data[0][0]\n",
    "    bs_y = data[1]['y']\n",
    "    # para cada muestra creada hago el split train/test\n",
    "    #bs_X_train, bs_X_val, bs_y_train, bs_y_val = train_test_split(bs_X, bs_y, test_size=0.33, shuffle=False)\n",
    "    X_train_bs.append(bs_X)\n",
    "    #X_val.append(bs_X_val)\n",
    "    y_train_bs.append(bs_y)\n",
    "    #y_val.append(bs_y_val)\n",
    "    # POR QUÉ NO APPENDEA EL VALIDATION SET?\n",
    "X_train_bs = np.concatenate(X_train_bs);# X_val = np.concatenate(X_val)\n",
    "y_train_bs = np.concatenate(y_train_bs);# y_val = np.concatenate(y_val)\n",
    "X_train_bs=pd.DataFrame(X_train_bs,columns=X.columns)\n",
    "y_train_bs=pd.DataFrame(y_train_bs,columns=['Sign'])"
   ]
  },
  {
   "cell_type": "code",
   "execution_count": null,
   "metadata": {},
   "outputs": [],
   "source": [
    "len(X_train_bs)"
   ]
  },
  {
   "cell_type": "code",
   "execution_count": null,
   "metadata": {},
   "outputs": [],
   "source": [
    "X_train_bs.head(),y_train_bs.head()"
   ]
  },
  {
   "cell_type": "markdown",
   "metadata": {},
   "source": [
    "#### <font color= darkblue> Time Series cross-validation\n",
    "    \n",
    "Next, we will perform a Time Series cross-validation on the new (much larger) set of bootstrap samples that we generate.\n",
    "    \n",
    "This technique is a variation of KFold and provides indices to do the split train/test of the observed time series in a fixed time interval. In the k-th split, we will have k folds as the train set and the (k + 1) -th fold will be the test set."
   ]
  },
  {
   "cell_type": "markdown",
   "metadata": {},
   "source": [
    "First, we will define a cross\\_model() function to create and fit a list of models in the crossvalidation samples."
   ]
  },
  {
   "cell_type": "code",
   "execution_count": null,
   "metadata": {},
   "outputs": [],
   "source": [
    "# Realizamos un cross validation sobre un modelo fijo\n",
    "def cross_model(model,X,Y):\n",
    "    tscv = TimeSeriesSplit()\n",
    "    models=[]\n",
    "    for train_index, test_index in tscv.split(X):\n",
    "#         print(\"TRAIN:\", train_index, \"TEST:\", test_index)\n",
    "        X__train, X__test = X.iloc[train_index], X.iloc[test_index]\n",
    "        y__train, y__test = Y.iloc[train_index], Y.iloc[test_index]\n",
    "        # if needed, do preprocessing here\n",
    "\n",
    "        model.fit(X__train,y__train)\n",
    "        \n",
    "        models.append(model)\n",
    "    return models\n",
    "def cross_scores(model,X,Y):\n",
    "    tscv = TimeSeriesSplit()\n",
    "    scores=[]\n",
    "    for train_index, test_index in tscv.split(X):\n",
    "#         print(\"TRAIN:\", train_index, \"TEST:\", test_index)\n",
    "        X__train, X__test = X.iloc[train_index], X.iloc[test_index]\n",
    "        y__train, y__test = Y.iloc[train_index], Y.iloc[test_index]\n",
    "        # if needed, do preprocessing here\n",
    "\n",
    "        model.fit(X__train,y__train)\n",
    "\n",
    "        preds = model.predict(X__test)\n",
    "\n",
    "        # accuracy for the current fold only    \n",
    "        r2score = model.score(X__test,y__test)\n",
    "\n",
    "        scores.append(r2score)\n",
    "        \n",
    "    # this is the average accuracy over all folds\n",
    "    average_r2score = np.mean(scores)\n",
    "    return average_r2score"
   ]
  },
  {
   "cell_type": "markdown",
   "metadata": {},
   "source": [
    "#### <font color= darkblue> Averaging Ensemble\n",
    "    \n",
    "Next, we define the ensemble\\_predictions () function that takes a list of models and a set of data, and returns the response variable predicted by the assembler.\n",
    "\n",
    "One can assemble the (binary) predictions from multiple models by taking the mean of the vector of predictions from the models and then, if necessary, converting the resulting vector to have values in $ \\{0,1 \\} $ (for example using LabelEncoder)."
   ]
  },
  {
   "cell_type": "code",
   "execution_count": null,
   "metadata": {},
   "outputs": [],
   "source": [
    "# make an ensemble prediction for multi-class classification\n",
    "def ensemble_predictions(models, X):\n",
    "    # make predictions\n",
    "    yhats = [model.predict(X) for model in models]\n",
    "    yhats = np.array(yhats)\n",
    "    # mean across ensemble members\n",
    "    mean = np.mean(yhats, axis=0)\n",
    "    encoder = LabelEncoder() \n",
    "    return encoder.fit_transform(mean)"
   ]
  },
  {
   "cell_type": "markdown",
   "metadata": {},
   "source": [
    "Let's look at this ensemble technique for examples for the Naive Bayes model."
   ]
  },
  {
   "cell_type": "code",
   "execution_count": null,
   "metadata": {},
   "outputs": [],
   "source": [
    "modelos=[mnb,lr,knn,svm,clf,bg,adb,rf,ppr,MLP,LSTM]\n",
    "modelos_nom=['mnb','lr','knn','svm','clf','bg','adb','rf','ppr','MLP','LSTM']"
   ]
  },
  {
   "cell_type": "code",
   "execution_count": null,
   "metadata": {},
   "outputs": [],
   "source": [
    "modelos"
   ]
  },
  {
   "cell_type": "code",
   "execution_count": null,
   "metadata": {},
   "outputs": [],
   "source": [
    "model=modelos[4] # We choose MultinomialNB()\n",
    "# cross sample + ensemble\n",
    "models=cross_model(model,X_train,y_train) \n",
    "preds = ensemble_predictions(models,X_test)\n",
    "print('score con muestra cross+ensemble: %.3f' % accuracy_score(y_test,preds))\n",
    "# bootstraped sample\n",
    "model.fit(X_train_bs,y_train_bs)\n",
    "print('score con muestra bts: %.3f' % accuracy_score(y_test,model.predict(X_test)))#cross_scores(model,X_test,y_test))#\n",
    "# original sample\n",
    "model.fit(X_train,y_train)\n",
    "print('score con muestra original: %.3f' % accuracy_score(y_test,model.predict(X_test)))"
   ]
  },
  {
   "cell_type": "markdown",
   "metadata": {},
   "source": [
    "There is no great improvement over the original sample."
   ]
  },
  {
   "cell_type": "markdown",
   "metadata": {},
   "source": [
    "#### <font color= darkblue> Prediction Scores\n",
    "    \n",
    "We can estimate the performance of the ensemble of a certain fixed size $ n $, by selecting the required number of models from the list of all models, calling the ensemble_predictions () function to make the prediction, and then calculating the precision of the prediction compared to the actual values. The function evaluate\\_n\\_members () implements this idea."
   ]
  },
  {
   "cell_type": "code",
   "execution_count": null,
   "metadata": {},
   "outputs": [],
   "source": [
    "# evaluate a specific number of members in an ensemble\n",
    "def evaluate_n_members(models, n_members, X, y):\n",
    "    # select a subset of members\n",
    "    subset = models[:n_members]\n",
    "    # make prediction\n",
    "    yhat = ensemble_predictions(subset, X)\n",
    "    # calculate accuracy\n",
    "    return accuracy_score(y, yhat)"
   ]
  },
  {
   "cell_type": "markdown",
   "metadata": {},
   "source": [
    "We then save the ensemble score of each size for a later graph, and the score of each individual model and the average performance obtained."
   ]
  },
  {
   "cell_type": "code",
   "execution_count": null,
   "metadata": {},
   "outputs": [],
   "source": [
    "# evaluate different numbers of ensembles on hold out set\n",
    "single_scores, ensemble_scores = list(), list()\n",
    "for i in range(1, len(models)+1):\n",
    "    # evaluate model with i members\n",
    "    ensemble_score = evaluate_n_members(models, i, X_test, y_test)\n",
    "    # evaluate the i'th model standalone\n",
    "    single_score = models[i-1].score(X_test, y_test)\n",
    "    # summarize this step\n",
    "    print('> %d: single=%.3f, ensemble=%.3f' % (i, single_score, ensemble_score))\n",
    "    ensemble_scores.append(ensemble_score)\n",
    "    single_scores.append(single_score)\n",
    "# summarize average accuracy of a single final model\n",
    "print('Accuracy %.3f (%.3f)' % (np.mean(single_scores), np.std(single_scores)))"
   ]
  },
  {
   "cell_type": "markdown",
   "metadata": {},
   "source": [
    "No improvement is observed using the ensemble method."
   ]
  },
  {
   "cell_type": "markdown",
   "metadata": {},
   "source": [
    "\\clearpage"
   ]
  },
  {
   "cell_type": "markdown",
   "metadata": {},
   "source": [
    "# <font color= darkblue> Comparación de modelos"
   ]
  },
  {
   "cell_type": "markdown",
   "metadata": {},
   "source": [
    "Let's compare the models according to their prediction score, '' score '', and according to their ROC curves."
   ]
  },
  {
   "cell_type": "markdown",
   "metadata": {},
   "source": [
    "### <font color= darkblue> Score\n",
    "    \n",
    "Let's list the performance of the models."
   ]
  },
  {
   "cell_type": "code",
   "execution_count": null,
   "metadata": {},
   "outputs": [],
   "source": [
    "scores=[]\n",
    "for i in range(0,len(modelos_nom)-2):\n",
    "    aux=modelos[i].score(X_test,y_test)\n",
    "    scores.append(aux)\n",
    "    print('El modelo '+modelos_nom[i]+' tiene un score de: %.3f' % aux)\n",
    "scores.append(results_MLP[1])\n",
    "print('El modelo '+modelos_nom[9]+' tiene un score de: %.3f' % results_MLP[1])\n",
    "scores.append(results_LSTM[1])\n",
    "print('El modelo '+modelos_nom[10]+' tiene un score de: %.3f' % results_LSTM[1])"
   ]
  },
  {
   "cell_type": "markdown",
   "metadata": {},
   "source": [
    "### <font color= darkblue> ROCs Curves"
   ]
  },
  {
   "cell_type": "markdown",
   "metadata": {},
   "source": [
    "A receiver operating characteristic curve, or ROC curve, is a graphical plot that illustrates the diagnostic ability of a binary classifier system as its discrimination threshold is varied. \n",
    "\n",
    "The ROC curve is created by plotting the true positive rate (TPR) against the false positive rate (FPR) at various threshold settings. The true-positive rate is also known as sensitivity, recall or probability of detection in machine learning. The false-positive rate is also known as probability of false alarm and can be calculated as (1 - specificity). \n",
    "\n",
    "It can also be thought of as a plot of the power as a function of the Type I Error of the decision rule. The ROC curve is thus the sensitivity or recall as a function of fall-out. \n",
    "\n",
    "ROC analysis provides tools to select possibly optimal models and to discard suboptimal ones independently from (and prior to specifying) the cost context or the class distribution."
   ]
  },
  {
   "cell_type": "markdown",
   "metadata": {},
   "source": [
    "To be able to graph the ROC curves simultaneously, we will define a list with the predictions of all the models on the test set."
   ]
  },
  {
   "cell_type": "code",
   "execution_count": 90,
   "metadata": {},
   "outputs": [
    {
     "name": "stdout",
     "output_type": "stream",
     "text": [
      "No Skill: ROC AUC=0.500\n",
      "LSTM: ROC AUC=0.845\n"
     ]
    },
    {
     "data": {
      "image/png": "[encoded data removed]",
      "text/plain": [
       "<Figure size 1440x720 with 1 Axes>"
      ]
     },
     "metadata": {},
     "output_type": "display_data"
    }
   ],
   "source": [
    "predicciones=pd.DataFrame()\n",
    "for i in range(0,len(modelos)-1):\n",
    "    predicciones[modelos_nom[i]]=np.where(modelos[i].predict(X_test)>=0.5,1,0)\n",
    "predicciones[modelos_nom[10]]=np.where(model_LSTM.predict(X_test_LSTM, batch_size=1)>=0.5,1,0)\n",
    "predicciones.index=X[::-1][split:].index"
   ]
  },
  {
   "cell_type": "code",
   "execution_count": null,
   "metadata": {},
   "outputs": [],
   "source": [
    "predicciones.head()"
   ]
  },
  {
   "cell_type": "code",
   "execution_count": null,
   "metadata": {},
   "outputs": [],
   "source": [
    "ns_probs = [0 for _ in range(len(y_test))]\n",
    "# calculate scores\n",
    "ns_auc = roc_auc_score(y_test, ns_probs)\n",
    "\n",
    "lr_auc = []\n",
    "for i in range(0,len(modelos_nom)):\n",
    "    lr_auc.append(np.array(roc_auc_score(y_test, predicciones[modelos_nom[i]])))"
   ]
  },
  {
   "cell_type": "markdown",
   "metadata": {},
   "source": [
    "We plot the ROC curves. We will make the graphics in two parts for a better visualization."
   ]
  },
  {
   "cell_type": "code",
   "execution_count": 91,
   "metadata": {},
   "outputs": [
    {
     "name": "stdout",
     "output_type": "stream",
     "text": [
      "No Skill: ROC AUC=0.500\n",
      "LSTM: ROC AUC=0.962\n"
     ]
    },
    {
     "data": {
      "image/png": "[encoded data removed]",
      "text/plain": [
       "<Figure size 1440x720 with 1 Axes>"
      ]
     },
     "metadata": {},
     "output_type": "display_data"
    }
   ],
   "source": [
    "# ROC Curves Part 1\n",
    "# summarize scores\n",
    "print('No Skill: ROC AUC=%.3f' % (ns_auc))\n",
    "for i in range(0,len(modelos_nom)-5):\n",
    "    print(modelos_nom[i] + ': ROC AUC=%.3f' % (lr_auc[i]))\n",
    "\n",
    "ns_fpr, ns_tpr, _ = roc_curve(y_test, ns_probs)\n",
    "plt.plot(ns_fpr, ns_tpr, linestyle='--', label='No Skill')\n",
    "\n",
    "for i in range(0,len(modelos_nom)-5):\n",
    "    lr_fpr=roc_curve(y_test,predicciones[modelos_nom[i]])[0]\n",
    "    lr_tpr=roc_curve(y_test,predicciones[modelos_nom[i]])[1]\n",
    "    plt.plot(lr_fpr, lr_tpr, marker='.', label=modelos_nom[i])\n",
    "plt.title('ROC Curves')\n",
    "# axis labels\n",
    "plt.xlabel('False Positive Rate')\n",
    "plt.ylabel('True Positive Rate')\n",
    "# show the legend\n",
    "plt.legend()\n",
    "# show the plot\n",
    "plt.show()"
   ]
  },
  {
   "cell_type": "code",
   "execution_count": null,
   "metadata": {},
   "outputs": [],
   "source": [
    "# ROC Curves Part 2\n",
    "print('No Skill: ROC AUC=%.3f' % (ns_auc))\n",
    "for i in range(6,len(modelos_nom)):\n",
    "    print(modelos_nom[i] + ': ROC AUC=%.3f' % (lr_auc[i]))\n",
    "\n",
    "ns_fpr, ns_tpr, _ = roc_curve(y_test, ns_probs)\n",
    "plt.plot(ns_fpr, ns_tpr, linestyle='--', label='No Skill')\n",
    "\n",
    "for i in range(6,len(modelos_nom)):\n",
    "    lr_fpr=roc_curve(y_test,predicciones[modelos_nom[i]])[0]\n",
    "    lr_tpr=roc_curve(y_test,predicciones[modelos_nom[i]])[1]\n",
    "    plt.plot(lr_fpr, lr_tpr, marker='.', label=modelos_nom[i])\n",
    "plt.title('ROC Curves')\n",
    "# axis labels\n",
    "plt.xlabel('False Positive Rate')\n",
    "plt.ylabel('True Positive Rate')\n",
    "# show the legend\n",
    "plt.legend()\n",
    "# show the plot\n",
    "plt.show()"
   ]
  },
  {
   "cell_type": "markdown",
   "metadata": {},
   "source": [
    "### <font color= darkblue> Strategies: Prediction vs Reality\n",
    "\n",
    "Next we will plot the actual movement of the BTC and the strategies resulting from following the predictions of the models."
   ]
  },
  {
   "cell_type": "markdown",
   "metadata": {},
   "source": [
    "First of all, we need to deal with the actual values of the BTC returns and not the scaled ones. With which, we will work with a new dataframe with the values without scaling."
   ]
  },
  {
   "cell_type": "code",
   "execution_count": null,
   "metadata": {},
   "outputs": [],
   "source": [
    "X_aux = Bitcoin[::-1][split:]\n",
    "X_aux = pd.DataFrame(Bitcoin,columns=Bitcoin.columns,index=Bitcoin[::-1][split:].index)"
   ]
  },
  {
   "cell_type": "markdown",
   "metadata": {},
   "source": [
    "In order to make the graphs simultaneously, we will define for each model two new columns in the dataset: one with the predictions and the other with the strategies. Where by strategy we understand to buy (long) if the predictor indicates 1 and to sell (short) if it indicates −1 (0)."
   ]
  },
  {
   "cell_type": "code",
   "execution_count": null,
   "metadata": {},
   "outputs": [],
   "source": [
    "for i in range(0,len(modelos_nom)):\n",
    "    X_aux['prediction_'+modelos_nom[i]] = np.where(predicciones[modelos_nom[i]] >= 0.5, 1, -1)\n",
    "    X_aux['strategy'+modelos_nom[i]] = X_aux['prediction_'+modelos_nom[i]] * \\\n",
    "                                X_aux['Returns']"
   ]
  },
  {
   "cell_type": "markdown",
   "metadata": {},
   "source": [
    "Next we graph the real movement of BTC vs the strategies. We will divide the cases into two graphs so that there is no piling up of plots."
   ]
  },
  {
   "cell_type": "code",
   "execution_count": null,
   "metadata": {},
   "outputs": [],
   "source": [
    "# Strategies Part 1\n",
    "for i in range(0,len(modelos_nom)-5):\n",
    "    plt.plot(X_aux['strategy'+modelos_nom[i]].cumsum(),marker='.', label=modelos_nom[i])\n",
    "    print('Retorno acumulado usando strategy_'+modelos_nom[i]+': %f.3' % X_aux['strategy'+modelos_nom[i]].sum())\n",
    "plt.plot(X_aux['Returns'].cumsum(),marker='.', label='Actual',color='black')\n",
    "plt.title('Strategy vs Actual')\n",
    "# axis labels\n",
    "plt.xlabel('False Positive Rate')\n",
    "plt.ylabel('True Positive Rate')\n",
    "# show the legend\n",
    "plt.legend()\n",
    "plt.show()"
   ]
  },
  {
   "cell_type": "code",
   "execution_count": null,
   "metadata": {},
   "outputs": [],
   "source": [
    "# Strategies Part 2\n",
    "for i in range(6,len(modelos_nom)):\n",
    "    plt.plot(X_aux['strategy'+modelos_nom[i]].cumsum(),marker='.', label=modelos_nom[i])\n",
    "    print('Retorno acumulado usando strategy_'+modelos_nom[i]+': %f.3' % X_aux['strategy'+modelos_nom[i]].sum())\n",
    "plt.plot(X_aux['Returns'].cumsum(),marker='.', label='Actual',color='black')\n",
    "plt.title('Strategy vs Actual')\n",
    "# axis labels\n",
    "plt.xlabel('False Positive Rate')\n",
    "plt.ylabel('True Positive Rate')\n",
    "# show the legend\n",
    "plt.legend()\n",
    "plt.show()"
   ]
  },
  {
   "cell_type": "markdown",
   "metadata": {},
   "source": [
    "Let's see what the winning strategy is."
   ]
  },
  {
   "cell_type": "code",
   "execution_count": null,
   "metadata": {},
   "outputs": [],
   "source": [
    "strategies=[]\n",
    "for i in range(0,len(modelos_nom)):\n",
    "    aux=X_aux['strategy'+modelos_nom[i]].sum()\n",
    "    strategies.append(aux)\n",
    "    print('La estrategia de '+modelos_nom[i]+' tiene un retorno acumulado de: %.3f' % aux)"
   ]
  },
  {
   "cell_type": "markdown",
   "metadata": {},
   "source": [
    "\\clearpage"
   ]
  },
  {
   "cell_type": "markdown",
   "metadata": {},
   "source": [
    "#  <font color= darkblue> Conclution\n",
    "\n",
    "We have shown how different statistical models are created and trained for the same data set and to solve the same classification task.\n",
    "\n",
    "Furthermore, we have compared the models in terms of the prediction score of each and in terms of their ROC curves.\n",
    "\n",
    "To finish finding the best models, let's rank the models according to their training speed, their prediction score, and their level of overfitting."
   ]
  },
  {
   "cell_type": "markdown",
   "metadata": {},
   "source": [
    "#### <font color= darkblue> Best Runtime\n",
    "\n",
    "In terms of training speed, we have the following classification"
   ]
  },
  {
   "cell_type": "code",
   "execution_count": null,
   "metadata": {},
   "outputs": [],
   "source": [
    "modelos_nom.insert(8,'evc')# We have to add 'evc'"
   ]
  },
  {
   "cell_type": "code",
   "execution_count": null,
   "metadata": {},
   "outputs": [],
   "source": [
    "min_coef_index=list(np.argsort(runtimes))\n",
    "for i in min_coef_index:\n",
    "    print('El tiempo de demora del modelo '+modelos_nom[i]+' es: %f' % runtimes[i])"
   ]
  },
  {
   "cell_type": "markdown",
   "metadata": {},
   "source": [
    "The model with the best runtime is"
   ]
  },
  {
   "cell_type": "code",
   "execution_count": null,
   "metadata": {},
   "outputs": [],
   "source": [
    "modelos_nom[runtimes.index(np.min(runtimes))]"
   ]
  },
  {
   "cell_type": "markdown",
   "metadata": {},
   "source": [
    "#### <font color= darkblue> Best Prediction Score\n",
    "    \n",
    "In terms of the best prediction in the test set we have the following classification"
   ]
  },
  {
   "cell_type": "code",
   "execution_count": null,
   "metadata": {},
   "outputs": [],
   "source": [
    "modelos_nom.remove('evc') # We have to remove 'evc'"
   ]
  },
  {
   "cell_type": "code",
   "execution_count": null,
   "metadata": {},
   "outputs": [],
   "source": [
    "min_coef_index=list(np.argsort(scores)[::-1])\n",
    "for i in min_coef_index:\n",
    "    print('El modelo '+modelos_nom[i]+' tiene un score de: %f' % scores[i])"
   ]
  },
  {
   "cell_type": "markdown",
   "metadata": {},
   "source": [
    "#### <font color= darkblue> Worst Overfitting:\n",
    "    \n",
    "Based on the table above, the worst overfitting algorithms are clearly: rf, adb, bg, and clf. That is, all those linked to decision trees."
   ]
  },
  {
   "cell_type": "markdown",
   "metadata": {},
   "source": [
    "#### <font color= darkblue> Best Algorithms:\n",
    "    \n",
    "Taking into account the two previous metrics we can say that the best three models are: knn, svm and lr."
   ]
  },
  {
   "cell_type": "markdown",
   "metadata": {},
   "source": [
    "\\begin{thebibliography}{}\n",
    "    \n",
    "    \\bibitem{}\n",
    "    C. Alexander et. al. \\textit{Price discovery in Bitcoin: The impact of unregulated markets}. Journal of Financial Stability, Volume 50, October 2020.\n",
    "\n",
    "    \\bibitem{}\n",
    "    C. Alexander. \\textit{Bitcoin Derivatives: the impact of Unregulated Markets on Price Discovery and Introducing the BVIX}. 6th Quant Insights Conference https://www.qiconference.com/\n",
    "\n",
    "    \\bibitem{}\n",
    "    T. Guida. \\textit{Big Data and Machine Learning in Quantitative Investment}. John Wiley \\& Sons, Ltd. ISBN 9781119522195. (2019)\n",
    "\n",
    "    \\bibitem{}\n",
    "    Y. Hilpisch. \\textit{Python for Algorithmic Trading}. O’Reilly Media, Inc. (2020)\n",
    "\n",
    "    \\bibitem{}\n",
    "    Matt H and Daniel R. \\textit{Practical Advice for Building Deep Neural Networks}. https://pcc.cs.byu.edu/2017/10/02/practical-advice-for-building-deep-neural-networks/\n",
    "\n",
    "    \\bibitem{}\n",
    "    S. Nakamoto. \\textit{Bitcoin: A Peer-to Peer Electronic Cash System}. white paper (2008). Available at https://bitcoin.org/bitcoin.pdf\n",
    "\n",
    "    \\bibitem{}\n",
    "    Pang et. al. \\textit{Stock Market Prediction based on Deep Long Short-Term Memory Neural network}. Proceedings of the 3rd International Conference on Complexity, Future Information Systems and Risk (COMPLEXIS 2018), pages 102-108. ISBN: 9789897582974\n",
    "    \n",
    "    \\bibitem{}\n",
    "    K. Singaravelu. \\textit{Introduction to Deep Learning \\& Neural Networks}. CQF Lecture series – Module 5 Data Science and Machine Learning II – October, 2020\n",
    "\n",
    "    \\bibitem{}\n",
    "    K. Singaravelu. \\textit{Application of Neural Networks}. CQF Python Labs – October, 2020\n",
    "\n",
    "    \\bibitem{}\n",
    "    Roc curve:  \"Detector Performance Analysis Using ROC Curves - MATLAB \\& Simulink Example\". www.mathworks.com. Retrieved 11 August 2016.\n",
    "\n",
    "    \\bibitem{}\n",
    "    MinMaxScaler: https://scikitlearn.org/stable/modules/generated/sklearn.preprocessing.MinMaxScaler.html.\n",
    "\n",
    "    \\bibitem{}\n",
    "    Decision Tree Classifier: https://medium.com/@mohtedibf/indepth-parameter-tuning-for-decision-tree-6753118a03c3.\n",
    "\n",
    "    \\bibitem{}\n",
    "    Projection Pursuit Classifier: https://pavelkomarov.com/projection-pursuit/skpp.html\\#module-skpp.\n",
    "\n",
    "    \\bibitem{}\n",
    "    Averaging ensemble: https://machinelearningmastery.com/weighted-average-ensemble-for-deep-learning-neural-networks/.\n",
    "\n",
    "    \\bibitem{}\n",
    "    Time series cross validation: https://robjhyndman.com/hyndsight/tscv/.\n",
    "\n",
    "    \\bibitem{}\n",
    "    For further information on blockchain technology, please consult Ahonen E. (2021) Blockland - 21 Stories of Bitcoin, Blockchain, and Cryptocurrency available at https://www.cryptonumist.com/\n",
    "\t\n",
    "\\end{thebibliography}"
   ]
  }
 ],
 "metadata": {
  "kernelspec": {
   "display_name": "Python 3",
   "language": "python",
   "name": "python3"
  },
  "language_info": {
   "codemirror_mode": {
    "name": "ipython",
    "version": 3
   },
   "file_extension": ".py",
   "mimetype": "text/x-python",
   "name": "python",
   "nbconvert_exporter": "python",
   "pygments_lexer": "ipython3",
   "version": "3.8.10"
  }
 },
 "nbformat": 4,
 "nbformat_minor": 4
}
